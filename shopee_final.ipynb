{
 "cells": [
  {
   "cell_type": "code",
   "execution_count": 1,
   "metadata": {},
   "outputs": [],
   "source": [
    "import glob\n",
    "import cv2\n",
    "import numpy as np\n",
    "import pandas as pd\n",
    "import os\n",
    "import skimage.io as io\n",
    "import matplotlib.image as mpimg\n",
    "%matplotlib inline\n",
    "from  matplotlib import pyplot as plt\n",
    "import random\n",
    "import os"
   ]
  },
  {
   "cell_type": "code",
   "execution_count": 2,
   "metadata": {},
   "outputs": [],
   "source": [
    "df=pd.read_csv(\"C:/Users/ACER/Downloads/Saikat_project/Shopee/train.csv\")"
   ]
  },
  {
   "cell_type": "code",
   "execution_count": 3,
   "metadata": {},
   "outputs": [
    {
     "data": {
      "text/html": [
       "<div>\n",
       "<style scoped>\n",
       "    .dataframe tbody tr th:only-of-type {\n",
       "        vertical-align: middle;\n",
       "    }\n",
       "\n",
       "    .dataframe tbody tr th {\n",
       "        vertical-align: top;\n",
       "    }\n",
       "\n",
       "    .dataframe thead th {\n",
       "        text-align: right;\n",
       "    }\n",
       "</style>\n",
       "<table border=\"1\" class=\"dataframe\">\n",
       "  <thead>\n",
       "    <tr style=\"text-align: right;\">\n",
       "      <th></th>\n",
       "      <th>posting_id</th>\n",
       "      <th>image</th>\n",
       "      <th>image_phash</th>\n",
       "      <th>title</th>\n",
       "      <th>label_group</th>\n",
       "    </tr>\n",
       "  </thead>\n",
       "  <tbody>\n",
       "    <tr>\n",
       "      <th>0</th>\n",
       "      <td>train_129225211</td>\n",
       "      <td>0000a68812bc7e98c42888dfb1c07da0.jpg</td>\n",
       "      <td>94974f937d4c2433</td>\n",
       "      <td>Paper Bag Victoria Secret</td>\n",
       "      <td>249114794</td>\n",
       "    </tr>\n",
       "    <tr>\n",
       "      <th>1</th>\n",
       "      <td>train_3386243561</td>\n",
       "      <td>00039780dfc94d01db8676fe789ecd05.jpg</td>\n",
       "      <td>af3f9460c2838f0f</td>\n",
       "      <td>Double Tape 3M VHB 12 mm x 4,5 m ORIGINAL / DO...</td>\n",
       "      <td>2937985045</td>\n",
       "    </tr>\n",
       "    <tr>\n",
       "      <th>2</th>\n",
       "      <td>train_2288590299</td>\n",
       "      <td>000a190fdd715a2a36faed16e2c65df7.jpg</td>\n",
       "      <td>b94cb00ed3e50f78</td>\n",
       "      <td>Maling TTS Canned Pork Luncheon Meat 397 gr</td>\n",
       "      <td>2395904891</td>\n",
       "    </tr>\n",
       "    <tr>\n",
       "      <th>3</th>\n",
       "      <td>train_2406599165</td>\n",
       "      <td>00117e4fc239b1b641ff08340b429633.jpg</td>\n",
       "      <td>8514fc58eafea283</td>\n",
       "      <td>Daster Batik Lengan pendek - Motif Acak / Camp...</td>\n",
       "      <td>4093212188</td>\n",
       "    </tr>\n",
       "    <tr>\n",
       "      <th>4</th>\n",
       "      <td>train_3369186413</td>\n",
       "      <td>00136d1cf4edede0203f32f05f660588.jpg</td>\n",
       "      <td>a6f319f924ad708c</td>\n",
       "      <td>Nescafe \\xc3\\x89clair Latte 220ml</td>\n",
       "      <td>3648931069</td>\n",
       "    </tr>\n",
       "  </tbody>\n",
       "</table>\n",
       "</div>"
      ],
      "text/plain": [
       "         posting_id                                 image       image_phash  \\\n",
       "0   train_129225211  0000a68812bc7e98c42888dfb1c07da0.jpg  94974f937d4c2433   \n",
       "1  train_3386243561  00039780dfc94d01db8676fe789ecd05.jpg  af3f9460c2838f0f   \n",
       "2  train_2288590299  000a190fdd715a2a36faed16e2c65df7.jpg  b94cb00ed3e50f78   \n",
       "3  train_2406599165  00117e4fc239b1b641ff08340b429633.jpg  8514fc58eafea283   \n",
       "4  train_3369186413  00136d1cf4edede0203f32f05f660588.jpg  a6f319f924ad708c   \n",
       "\n",
       "                                               title  label_group  \n",
       "0                          Paper Bag Victoria Secret    249114794  \n",
       "1  Double Tape 3M VHB 12 mm x 4,5 m ORIGINAL / DO...   2937985045  \n",
       "2        Maling TTS Canned Pork Luncheon Meat 397 gr   2395904891  \n",
       "3  Daster Batik Lengan pendek - Motif Acak / Camp...   4093212188  \n",
       "4                  Nescafe \\xc3\\x89clair Latte 220ml   3648931069  "
      ]
     },
     "execution_count": 3,
     "metadata": {},
     "output_type": "execute_result"
    }
   ],
   "source": [
    "df.head()"
   ]
  },
  {
   "cell_type": "code",
   "execution_count": 4,
   "metadata": {},
   "outputs": [],
   "source": [
    "value_count = df.image_phash.value_counts().rename_axis('unique_values').reset_index(name='counts')"
   ]
  },
  {
   "cell_type": "code",
   "execution_count": 5,
   "metadata": {},
   "outputs": [],
   "source": [
    "df['target']=np.nan"
   ]
  },
  {
   "cell_type": "code",
   "execution_count": 6,
   "metadata": {},
   "outputs": [
    {
     "data": {
      "text/plain": [
       "28735"
      ]
     },
     "execution_count": 6,
     "metadata": {},
     "output_type": "execute_result"
    }
   ],
   "source": [
    "len(value_count['unique_values'])"
   ]
  },
  {
   "cell_type": "code",
   "execution_count": 7,
   "metadata": {},
   "outputs": [],
   "source": [
    "a=0\n",
    "for i in value_count['unique_values']:\n",
    "    b=0\n",
    "    for j in df['image_phash']:\n",
    "        if i==j:\n",
    "            df.loc[df.index[b], 'target'] = value_count['counts'].loc[a]\n",
    "        b=b+1\n",
    "    a=a+1\n",
    "        "
   ]
  },
  {
   "cell_type": "code",
   "execution_count": 8,
   "metadata": {},
   "outputs": [
    {
     "data": {
      "text/plain": [
       "count    34250.000000\n",
       "mean         9.464672\n",
       "std          4.481533\n",
       "min          1.000000\n",
       "25%          6.000000\n",
       "50%          9.000000\n",
       "75%         12.000000\n",
       "max         61.000000\n",
       "Name: title, dtype: float64"
      ]
     },
     "execution_count": 8,
     "metadata": {},
     "output_type": "execute_result"
    }
   ],
   "source": [
    "df.title.map(\n",
    "    lambda text: len(text.split(\" \"))\n",
    ").describe()  #the product titles are not too long"
   ]
  },
  {
   "cell_type": "code",
   "execution_count": 9,
   "metadata": {},
   "outputs": [],
   "source": [
    "import re\n",
    "import nltk\n",
    "#nltk.download('stopwords')"
   ]
  },
  {
   "cell_type": "code",
   "execution_count": 10,
   "metadata": {},
   "outputs": [],
   "source": [
    "from nltk.corpus import stopwords"
   ]
  },
  {
   "cell_type": "code",
   "execution_count": 11,
   "metadata": {},
   "outputs": [],
   "source": [
    "stop = stopwords.words('english') #preprocessing steps\n",
    "from nltk.stem.wordnet import WordNetLemmatizer\n",
    "from nltk.tokenize import word_tokenize\n",
    "import string\n",
    "lemmatizer = WordNetLemmatizer()\n",
    "\n",
    "def clean_text(text):\n",
    "    text = text.translate(str.maketrans('', '', string.punctuation))\n",
    "    text = text.lower().strip()\n",
    "    text = ' '.join([i if i not in stop and i.isalpha() else '' for i in text.lower().split()])\n",
    "    text = ' '.join([lemmatizer.lemmatize(w) for w in word_tokenize(text)])\n",
    "    text = re.sub(r\"\\s{2,}\", \" \", text)\n",
    "    return text"
   ]
  },
  {
   "cell_type": "code",
   "execution_count": 12,
   "metadata": {},
   "outputs": [],
   "source": [
    "df['cleaned_text']=df['title'].apply(clean_text) #preprocessing steps"
   ]
  },
  {
   "cell_type": "code",
   "execution_count": 13,
   "metadata": {},
   "outputs": [],
   "source": [
    "cv_image=[]\n",
    "test_folder=r'C:/Users/ACER/Downloads/Saikat_project/Shopee/train_images'\n",
    "\n",
    "file = os.listdir(test_folder)\n",
    "for j in file:\n",
    "\n",
    "    img = cv2.imread('C:/Users/ACER/Downloads/Saikat_project/Shopee/train_images/'+j)\n",
    "    img = cv2.resize(img, (75, 115))\n",
    "    img = img.astype(np.float32)/255\n",
    "    cv_image.append(img)"
   ]
  },
  {
   "cell_type": "code",
   "execution_count": 14,
   "metadata": {},
   "outputs": [],
   "source": [
    "df1 = df.drop_duplicates(subset = [\"image\"])"
   ]
  },
  {
   "cell_type": "code",
   "execution_count": 15,
   "metadata": {},
   "outputs": [],
   "source": [
    "from sklearn.model_selection import train_test_split"
   ]
  },
  {
   "cell_type": "code",
   "execution_count": 16,
   "metadata": {},
   "outputs": [],
   "source": [
    "X_train_text,X_test_text,y_train_text,y_test_text=train_test_split(df1['title'], df1['target'], test_size=0.33, random_state=42)"
   ]
  },
  {
   "cell_type": "code",
   "execution_count": 17,
   "metadata": {},
   "outputs": [],
   "source": [
    "from keras.preprocessing.text import Tokenizer\n",
    "from keras.preprocessing.sequence import pad_sequences\n",
    "from keras.models import Model, load_model\n",
    "from keras.layers import Embedding, LSTM, Dropout, Dense, Input, Bidirectional, Flatten, Conv2D, MaxPooling2D, concatenate, Conv1D, MaxPooling1D\n",
    "import keras.backend as K\n",
    "from keras.optimizers import Adam, RMSprop\n",
    "from keras.callbacks import ModelCheckpoint, CSVLogger, EarlyStopping"
   ]
  },
  {
   "cell_type": "code",
   "execution_count": 18,
   "metadata": {},
   "outputs": [
    {
     "name": "stdout",
     "output_type": "stream",
     "text": [
      "Found 20919 unique tokens.\n",
      "Max len: 357\n"
     ]
    }
   ],
   "source": [
    "MAX_NB_WORDS = 50000\n",
    "MAX_SEQUENCE_LENGTH = X_train_text.map(len).max()\n",
    "EMBEDDING_DIM = 300\n",
    "tokenizer = Tokenizer(num_words=MAX_NB_WORDS, lower=True)\n",
    "tokenizer.fit_on_texts(X_train_text.values)\n",
    "word_index = tokenizer.word_index\n",
    "print('Found %s unique tokens.' % len(word_index))\n",
    "print('Max len:', MAX_SEQUENCE_LENGTH)"
   ]
  },
  {
   "cell_type": "code",
   "execution_count": 19,
   "metadata": {},
   "outputs": [
    {
     "name": "stdout",
     "output_type": "stream",
     "text": [
      "Found 20919 unique tokens.\n",
      "Max len: 357\n"
     ]
    }
   ],
   "source": [
    "MAX_NB_WORDS = 50000\n",
    "MAX_SEQUENCE_LENGTH = X_train_text.map(len).max()\n",
    "EMBEDDING_DIM = 300\n",
    "tokenizer = Tokenizer(num_words=MAX_NB_WORDS, lower=True)\n",
    "tokenizer.fit_on_texts(X_train_text.values)\n",
    "word_index = tokenizer.word_index\n",
    "print('Found %s unique tokens.' % len(word_index))\n",
    "print('Max len:', MAX_SEQUENCE_LENGTH)"
   ]
  },
  {
   "cell_type": "code",
   "execution_count": 20,
   "metadata": {},
   "outputs": [
    {
     "name": "stdout",
     "output_type": "stream",
     "text": [
      "Found 20919 unique tokens.\n",
      "Max len: 179\n"
     ]
    }
   ],
   "source": [
    "MAX_NB_WORDS = 50000\n",
    "MAX_SEQUENCE_LENGTH = df1['cleaned_text'].map(len).max()\n",
    "EMBEDDING_DIM = 300\n",
    "tokenizer = Tokenizer(num_words=MAX_NB_WORDS, lower=True)\n",
    "tokenizer.fit_on_texts(X_train_text.values)\n",
    "word_index_whole = tokenizer.word_index\n",
    "print('Found %s unique tokens.' % len(word_index_whole))\n",
    "print('Max len:', MAX_SEQUENCE_LENGTH)"
   ]
  },
  {
   "cell_type": "code",
   "execution_count": 21,
   "metadata": {},
   "outputs": [
    {
     "name": "stdout",
     "output_type": "stream",
     "text": [
      "20920\n"
     ]
    }
   ],
   "source": [
    "size_of_vocabulary=len(word_index_whole) + 1 #+1 for padding\n",
    "print(size_of_vocabulary)"
   ]
  },
  {
   "cell_type": "code",
   "execution_count": 22,
   "metadata": {},
   "outputs": [],
   "source": [
    "def get_embedding_matrix(typeToLoad):\n",
    "    if typeToLoad == \"glove\":\n",
    "        EMBEDDING_FILE=\"C:/Users/ACER/Downloads/Saikat_project/Shopee/glove.twitter.27B.100d.txt\"\n",
    "        embed_size = 100    \n",
    "    if typeToLoad == \"glove\" or typeToLoad == \"fasttext\":\n",
    "        embeddings_index = dict()\n",
    "        f = open(EMBEDDING_FILE,encoding=\"utf8\")\n",
    "\n",
    "        for line in f:\n",
    "            values = line.split()\n",
    "            word = values[0]\n",
    "            coefs = np.asarray(values[1:], dtype='float32')\n",
    "            embeddings_index[word] = coefs\n",
    "\n",
    "        f.close()\n",
    "        print('Loaded %s word vectors.' % len(embeddings_index))\n",
    "    \n",
    "\n",
    "        embedding_matrix = np.zeros((size_of_vocabulary, 100))\n",
    "        embeddedCount = 0\n",
    "        for word, i in tokenizer.word_index.items():\n",
    "            i-=1\n",
    "            embedding_vector = embeddings_index.get(word)\n",
    "            if embedding_vector is not None: \n",
    "                embedding_matrix[i] = embedding_vector\n",
    "                embeddedCount+=1\n",
    "            \n",
    "        \n",
    "        return embedding_matrix"
   ]
  },
  {
   "cell_type": "code",
   "execution_count": 23,
   "metadata": {},
   "outputs": [
    {
     "name": "stdout",
     "output_type": "stream",
     "text": [
      "Loaded 1193514 word vectors.\n"
     ]
    }
   ],
   "source": [
    "glove_embedding_matrix = get_embedding_matrix(\"glove\")"
   ]
  },
  {
   "cell_type": "code",
   "execution_count": 24,
   "metadata": {},
   "outputs": [
    {
     "name": "stdout",
     "output_type": "stream",
     "text": [
      "Found 20919 unique tokens.\n",
      "Max len: 357\n"
     ]
    }
   ],
   "source": [
    "MAX_NB_WORDS = 50000\n",
    "MAX_SEQUENCE_LENGTH = X_train_text.map(len).max()\n",
    "EMBEDDING_DIM = 100\n",
    "tokenizer = Tokenizer(num_words=MAX_NB_WORDS, lower=True)\n",
    "tokenizer.fit_on_texts(X_train_text.values)\n",
    "word_index = tokenizer.word_index\n",
    "print('Found %s unique tokens.' % len(word_index))\n",
    "print('Max len:', MAX_SEQUENCE_LENGTH)"
   ]
  },
  {
   "cell_type": "code",
   "execution_count": 25,
   "metadata": {},
   "outputs": [
    {
     "name": "stdout",
     "output_type": "stream",
     "text": [
      "Shape of train tensor: (21716, 357)\n"
     ]
    }
   ],
   "source": [
    "X_text_train = tokenizer.texts_to_sequences(X_train_text.values)\n",
    "X_text_train = pad_sequences(X_text_train, maxlen=MAX_SEQUENCE_LENGTH)\n",
    "print('Shape of train tensor:', X_text_train.shape)"
   ]
  },
  {
   "cell_type": "code",
   "execution_count": 26,
   "metadata": {},
   "outputs": [
    {
     "name": "stdout",
     "output_type": "stream",
     "text": [
      "Found 15051 unique tokens.\n",
      "Max len: 357\n"
     ]
    }
   ],
   "source": [
    "MAX_NB_WORDS = 50000\n",
    "MAX_SEQUENCE_LENGTH_TEST = X_test_text.map(len).max()\n",
    "EMBEDDING_DIM = 100\n",
    "tokenizer = Tokenizer(num_words=MAX_NB_WORDS, lower=True)\n",
    "tokenizer.fit_on_texts(X_test_text.values)\n",
    "word_index = tokenizer.word_index\n",
    "print('Found %s unique tokens.' % len(word_index))\n",
    "print('Max len:', MAX_SEQUENCE_LENGTH)"
   ]
  },
  {
   "cell_type": "code",
   "execution_count": 27,
   "metadata": {},
   "outputs": [
    {
     "name": "stdout",
     "output_type": "stream",
     "text": [
      "Shape of train tensor: (10696, 357)\n"
     ]
    }
   ],
   "source": [
    "X_text_test = tokenizer.texts_to_sequences(X_test_text.values)\n",
    "X_text_test = pad_sequences(X_text_test, maxlen=MAX_SEQUENCE_LENGTH)\n",
    "print('Shape of train tensor:', X_text_test.shape)"
   ]
  },
  {
   "cell_type": "code",
   "execution_count": 28,
   "metadata": {},
   "outputs": [
    {
     "data": {
      "text/plain": [
       "357"
      ]
     },
     "execution_count": 28,
     "metadata": {},
     "output_type": "execute_result"
    }
   ],
   "source": [
    "MAX_SEQUENCE_LENGTH"
   ]
  },
  {
   "cell_type": "code",
   "execution_count": 29,
   "metadata": {},
   "outputs": [],
   "source": [
    "X_train_image,X_test_image,y_train_image,y_test_image=train_test_split(cv_image, df1['target'], test_size=0.33, random_state=42)"
   ]
  },
  {
   "cell_type": "code",
   "execution_count": 30,
   "metadata": {},
   "outputs": [],
   "source": [
    "X_img_train_array = np.asarray(X_train_image)"
   ]
  },
  {
   "cell_type": "code",
   "execution_count": 31,
   "metadata": {},
   "outputs": [],
   "source": [
    "X_img_test_array = np.asarray(X_test_image)"
   ]
  },
  {
   "cell_type": "code",
   "execution_count": 32,
   "metadata": {},
   "outputs": [
    {
     "name": "stderr",
     "output_type": "stream",
     "text": [
      "<ipython-input-32-41aa19417421>:1: SettingWithCopyWarning: \n",
      "A value is trying to be set on a copy of a slice from a DataFrame.\n",
      "Try using .loc[row_indexer,col_indexer] = value instead\n",
      "\n",
      "See the caveats in the documentation: https://pandas.pydata.org/pandas-docs/stable/user_guide/indexing.html#returning-a-view-versus-a-copy\n",
      "  df1['target']=df1['target'].astype('str')\n"
     ]
    }
   ],
   "source": [
    "df1['target']=df1['target'].astype('str')"
   ]
  },
  {
   "cell_type": "code",
   "execution_count": 33,
   "metadata": {},
   "outputs": [],
   "source": [
    "from sklearn.preprocessing import MultiLabelBinarizer\n",
    "mlb = MultiLabelBinarizer()\n",
    "labels = mlb.fit(df1['target'].tolist())\n",
    "#train_labels=mlb.transform(y_train_text.astype('category'))\n",
    "#test_labels=mlb.transform(y_test_text.astype('category'))"
   ]
  },
  {
   "cell_type": "code",
   "execution_count": 60,
   "metadata": {},
   "outputs": [
    {
     "data": {
      "text/plain": [
       "array([[1, 1, 1, ..., 0, 0, 0],\n",
       "       [1, 1, 1, ..., 0, 0, 0],\n",
       "       [1, 1, 0, ..., 0, 0, 0],\n",
       "       ...,\n",
       "       [1, 1, 0, ..., 0, 0, 0],\n",
       "       [1, 1, 1, ..., 0, 0, 0],\n",
       "       [1, 1, 1, ..., 0, 0, 0]])"
      ]
     },
     "execution_count": 60,
     "metadata": {},
     "output_type": "execute_result"
    }
   ],
   "source": [
    "train_labels"
   ]
  },
  {
   "cell_type": "code",
   "execution_count": 61,
   "metadata": {},
   "outputs": [
    {
     "data": {
      "text/plain": [
       "(21716, 11)"
      ]
     },
     "execution_count": 61,
     "metadata": {},
     "output_type": "execute_result"
    }
   ],
   "source": [
    "train_labels.shape"
   ]
  },
  {
   "cell_type": "code",
   "execution_count": 62,
   "metadata": {},
   "outputs": [],
   "source": [
    "a =[]\n",
    "for i in test_labels:\n",
    "    a.append(str(i))"
   ]
  },
  {
   "cell_type": "code",
   "execution_count": 63,
   "metadata": {},
   "outputs": [
    {
     "data": {
      "text/plain": [
       "['[1 1 1 0 0 0 0 0 0 0 0]',\n",
       " '[1 1 1 0 0 0 0 0 0 0 0]',\n",
       " '[1 1 0 0 0 1 0 0 0 0 0]',\n",
       " '[1 1 1 0 0 0 0 0 0 0 0]',\n",
       " '[1 1 1 0 0 0 0 0 0 0 0]',\n",
       " '[1 1 1 0 0 0 0 0 0 0 0]',\n",
       " '[1 1 1 0 0 0 0 0 0 0 0]',\n",
       " '[1 1 1 0 0 0 0 0 0 0 0]',\n",
       " '[1 1 1 0 0 0 0 0 0 0 0]',\n",
       " '[1 1 0 1 0 0 0 0 0 0 0]',\n",
       " '[1 1 0 1 0 0 0 0 0 0 0]',\n",
       " '[1 1 1 0 0 0 0 0 0 0 0]',\n",
       " '[1 1 1 0 0 0 0 0 0 0 0]',\n",
       " '[1 1 1 0 0 0 0 0 0 0 0]',\n",
       " '[1 1 1 0 0 0 0 0 0 0 0]',\n",
       " '[1 1 0 0 0 0 0 0 0 1 0]',\n",
       " '[1 1 1 0 0 0 0 0 0 0 0]',\n",
       " '[1 1 1 0 0 0 0 0 0 0 0]',\n",
       " '[1 1 0 1 0 0 0 0 0 0 0]',\n",
       " '[1 1 0 0 1 0 0 0 0 0 0]',\n",
       " '[1 1 1 0 0 0 0 0 0 0 0]',\n",
       " '[1 1 1 0 0 0 0 0 0 0 0]',\n",
       " '[1 1 1 0 0 0 0 0 0 0 0]',\n",
       " '[1 1 1 0 0 0 0 0 0 0 0]',\n",
       " '[1 1 1 0 0 0 0 0 0 0 0]',\n",
       " '[1 1 1 0 0 0 0 0 0 0 0]',\n",
       " '[1 1 1 0 0 0 0 0 0 0 0]',\n",
       " '[1 1 0 0 1 0 0 0 0 0 0]',\n",
       " '[1 1 1 0 0 0 0 0 0 0 0]',\n",
       " '[1 1 1 0 0 0 0 0 0 0 0]',\n",
       " '[1 1 1 0 0 0 0 0 0 0 0]',\n",
       " '[1 1 1 0 0 0 0 0 0 0 0]',\n",
       " '[1 1 1 0 0 0 0 0 0 0 0]',\n",
       " '[1 1 1 0 0 0 0 0 0 0 0]',\n",
       " '[1 1 0 0 0 1 0 0 0 0 0]',\n",
       " '[1 1 0 0 1 0 0 0 0 0 0]',\n",
       " '[1 1 1 0 0 0 0 0 0 0 0]',\n",
       " '[1 1 0 1 0 0 0 0 0 0 0]',\n",
       " '[1 1 0 0 1 0 0 0 0 0 0]',\n",
       " '[1 1 0 0 0 0 0 0 1 0 0]',\n",
       " '[1 1 0 0 0 0 1 0 0 0 0]',\n",
       " '[1 1 1 0 0 0 0 0 0 0 0]',\n",
       " '[1 1 1 0 0 0 0 0 0 0 0]',\n",
       " '[1 1 1 0 0 0 0 0 0 0 0]',\n",
       " '[1 1 1 0 0 0 0 0 0 0 0]',\n",
       " '[1 1 1 0 0 0 0 0 0 0 0]',\n",
       " '[1 1 1 0 0 0 0 0 0 0 0]',\n",
       " '[1 1 0 0 0 1 0 0 0 0 0]',\n",
       " '[1 1 1 0 0 0 0 0 0 0 0]',\n",
       " '[1 1 1 0 0 0 0 0 0 0 0]',\n",
       " '[1 1 1 0 0 0 0 0 0 0 0]',\n",
       " '[1 1 1 0 0 0 0 0 0 0 0]',\n",
       " '[1 1 1 0 0 0 0 0 0 0 0]',\n",
       " '[1 1 0 1 0 0 0 0 0 0 0]',\n",
       " '[1 1 1 0 0 0 0 0 0 0 0]',\n",
       " '[1 1 1 0 0 0 0 0 0 0 0]',\n",
       " '[1 1 1 0 0 0 0 0 0 0 0]',\n",
       " '[1 1 1 0 0 0 0 0 0 0 0]',\n",
       " '[1 1 0 1 0 0 0 0 0 0 0]',\n",
       " '[1 1 0 1 0 0 0 0 0 0 0]',\n",
       " '[1 1 1 0 0 0 0 0 0 0 0]',\n",
       " '[1 1 0 1 0 0 0 0 0 0 0]',\n",
       " '[1 1 0 1 0 0 0 0 0 0 0]',\n",
       " '[1 1 1 0 0 0 0 0 0 0 0]',\n",
       " '[1 1 1 0 0 0 0 0 0 0 0]',\n",
       " '[1 1 1 0 0 0 0 0 0 0 0]',\n",
       " '[1 1 1 0 0 0 0 0 0 0 0]',\n",
       " '[1 1 1 0 0 0 0 0 0 0 0]',\n",
       " '[1 1 0 1 0 0 0 0 0 0 0]',\n",
       " '[1 1 0 1 0 0 0 0 0 0 0]',\n",
       " '[1 1 1 0 0 0 0 0 0 0 0]',\n",
       " '[1 1 1 0 0 0 0 0 0 0 0]',\n",
       " '[1 1 1 0 0 0 0 0 0 0 0]',\n",
       " '[1 1 0 0 1 0 0 0 0 0 0]',\n",
       " '[1 1 1 0 0 0 0 0 0 0 0]',\n",
       " '[1 1 1 0 0 0 0 0 0 0 0]',\n",
       " '[1 1 1 0 0 0 0 0 0 0 0]',\n",
       " '[1 1 1 0 0 0 0 0 0 0 0]',\n",
       " '[1 1 1 0 0 0 0 0 0 0 0]',\n",
       " '[1 1 1 0 0 0 0 0 0 0 0]',\n",
       " '[1 1 1 0 0 0 0 0 0 0 0]',\n",
       " '[1 1 0 1 0 0 0 0 0 0 0]',\n",
       " '[1 1 1 0 0 0 0 0 0 0 0]',\n",
       " '[1 1 1 0 0 0 0 0 0 0 0]',\n",
       " '[1 1 1 0 0 0 0 0 0 0 0]',\n",
       " '[1 1 1 0 0 0 0 0 0 0 0]',\n",
       " '[1 1 1 0 0 0 0 0 0 0 0]',\n",
       " '[1 1 0 0 1 0 0 0 0 0 0]',\n",
       " '[1 1 1 0 0 0 0 0 0 0 0]',\n",
       " '[1 1 1 0 0 0 0 0 0 0 0]',\n",
       " '[1 1 1 0 0 0 0 0 0 0 0]',\n",
       " '[1 1 0 1 0 0 0 0 0 0 0]',\n",
       " '[1 1 0 1 0 0 0 0 0 0 0]',\n",
       " '[1 1 0 0 1 0 0 0 0 0 0]',\n",
       " '[1 1 1 0 0 0 0 0 0 0 0]',\n",
       " '[1 1 1 0 0 0 0 0 0 0 0]',\n",
       " '[1 1 1 0 0 0 0 0 0 0 0]',\n",
       " '[1 1 1 0 0 0 0 0 0 0 0]',\n",
       " '[1 1 1 0 0 0 0 0 0 0 0]',\n",
       " '[1 1 0 1 0 0 0 0 0 0 0]',\n",
       " '[1 1 1 0 0 0 0 0 0 0 0]',\n",
       " '[1 1 0 1 0 0 0 0 0 0 0]',\n",
       " '[1 1 1 0 0 0 0 0 0 0 0]',\n",
       " '[1 1 1 0 0 0 0 0 0 0 0]',\n",
       " '[1 1 1 0 0 0 0 0 0 0 0]',\n",
       " '[1 1 1 0 0 0 0 0 0 0 0]',\n",
       " '[1 1 0 0 0 0 0 0 1 0 0]',\n",
       " '[1 1 0 1 0 0 0 0 0 0 0]',\n",
       " '[1 1 1 0 0 0 0 0 0 0 0]',\n",
       " '[1 1 1 0 0 0 0 0 0 0 0]',\n",
       " '[1 1 1 0 0 0 0 0 0 0 0]',\n",
       " '[1 1 1 0 0 0 0 0 0 0 0]',\n",
       " '[1 1 1 0 0 0 0 0 0 0 0]',\n",
       " '[1 1 1 0 0 0 0 0 0 0 0]',\n",
       " '[1 1 0 1 0 0 0 0 0 0 0]',\n",
       " '[1 1 1 0 0 0 0 0 0 0 0]',\n",
       " '[1 1 1 0 0 0 0 0 0 0 0]',\n",
       " '[1 1 1 0 0 0 0 0 0 0 0]',\n",
       " '[1 1 1 0 0 0 0 0 0 0 0]',\n",
       " '[1 1 1 0 0 0 0 0 0 0 0]',\n",
       " '[1 1 1 0 0 0 0 0 0 0 0]',\n",
       " '[1 1 1 0 0 0 0 0 0 0 0]',\n",
       " '[1 1 1 0 0 0 0 0 0 0 0]',\n",
       " '[1 1 1 0 0 0 0 0 0 0 0]',\n",
       " '[1 1 1 0 0 0 0 0 0 0 0]',\n",
       " '[1 1 1 0 0 0 0 0 0 0 0]',\n",
       " '[1 1 1 0 0 0 0 0 0 0 0]',\n",
       " '[1 1 0 0 1 0 0 0 0 0 0]',\n",
       " '[1 1 1 0 0 0 0 0 0 0 0]',\n",
       " '[1 1 1 0 0 0 0 0 0 0 0]',\n",
       " '[1 1 1 0 0 0 0 0 0 0 0]',\n",
       " '[1 1 1 0 0 0 0 0 0 0 0]',\n",
       " '[1 1 1 0 0 0 0 0 0 0 0]',\n",
       " '[1 1 0 1 0 0 0 0 0 0 0]',\n",
       " '[1 1 1 0 0 0 0 0 0 0 0]',\n",
       " '[1 1 1 0 0 0 0 0 0 0 0]',\n",
       " '[1 1 1 0 0 0 0 0 0 0 0]',\n",
       " '[1 1 1 0 0 0 0 0 0 0 0]',\n",
       " '[1 1 1 0 0 0 0 0 0 0 0]',\n",
       " '[1 1 0 1 0 0 0 0 0 0 0]',\n",
       " '[1 1 1 0 0 0 0 0 0 0 0]',\n",
       " '[1 1 1 0 0 0 0 0 0 0 0]',\n",
       " '[1 1 1 0 0 0 0 0 0 0 0]',\n",
       " '[1 1 1 0 0 0 0 0 0 0 0]',\n",
       " '[1 1 1 0 0 0 0 0 0 0 0]',\n",
       " '[1 1 1 0 0 0 0 0 0 0 0]',\n",
       " '[1 1 1 0 0 0 0 0 0 0 0]',\n",
       " '[1 1 1 0 0 0 0 0 0 0 0]',\n",
       " '[1 1 1 0 0 0 0 0 0 0 0]',\n",
       " '[1 1 0 1 0 0 0 0 0 0 0]',\n",
       " '[1 1 1 0 0 0 0 0 0 0 0]',\n",
       " '[1 1 1 0 0 0 0 0 0 0 0]',\n",
       " '[1 1 1 0 0 0 0 0 0 0 0]',\n",
       " '[1 1 1 0 0 0 0 0 0 0 0]',\n",
       " '[1 1 1 0 0 0 0 0 0 0 0]',\n",
       " '[1 1 1 0 0 0 0 0 0 0 0]',\n",
       " '[1 1 1 0 0 0 0 0 0 0 0]',\n",
       " '[1 1 1 0 0 0 0 0 0 0 0]',\n",
       " '[1 1 0 1 0 0 0 0 0 0 0]',\n",
       " '[1 1 1 0 0 0 0 0 0 0 0]',\n",
       " '[1 1 1 0 0 0 0 0 0 0 0]',\n",
       " '[1 1 1 0 0 0 0 0 0 0 0]',\n",
       " '[1 1 0 0 0 0 1 0 0 0 0]',\n",
       " '[1 1 1 0 0 0 0 0 0 0 0]',\n",
       " '[1 1 0 0 0 1 0 0 0 0 0]',\n",
       " '[1 1 1 0 0 0 0 0 0 0 0]',\n",
       " '[1 1 0 1 0 0 0 0 0 0 0]',\n",
       " '[1 1 1 0 0 0 0 0 0 0 0]',\n",
       " '[1 1 1 0 0 0 0 0 0 0 0]',\n",
       " '[1 1 1 0 0 0 0 0 0 0 0]',\n",
       " '[1 1 0 1 0 0 0 0 0 0 0]',\n",
       " '[1 1 1 0 0 0 0 0 0 0 0]',\n",
       " '[1 1 1 0 0 0 0 0 0 0 0]',\n",
       " '[1 1 1 0 0 0 0 0 0 0 0]',\n",
       " '[1 1 1 0 0 0 0 0 0 0 0]',\n",
       " '[1 1 1 0 0 0 0 0 0 0 0]',\n",
       " '[1 1 1 0 0 0 0 0 0 0 0]',\n",
       " '[1 1 1 0 0 0 0 0 0 0 0]',\n",
       " '[1 1 1 0 0 0 0 0 0 0 0]',\n",
       " '[1 1 1 0 0 0 0 0 0 0 0]',\n",
       " '[1 1 1 0 0 0 0 0 0 0 0]',\n",
       " '[1 1 1 0 0 0 0 0 0 0 0]',\n",
       " '[1 1 1 0 0 0 0 0 0 0 0]',\n",
       " '[1 1 1 0 0 0 0 0 0 0 0]',\n",
       " '[1 1 1 0 0 0 0 0 0 0 0]',\n",
       " '[1 1 1 0 0 0 0 0 0 0 0]',\n",
       " '[1 1 1 0 0 0 0 0 0 0 0]',\n",
       " '[1 1 1 0 0 0 0 0 0 0 0]',\n",
       " '[1 1 1 0 0 0 0 0 0 0 0]',\n",
       " '[1 1 1 0 0 0 0 0 0 0 0]',\n",
       " '[1 1 1 0 0 0 0 0 0 0 0]',\n",
       " '[1 1 1 0 0 0 0 0 0 0 0]',\n",
       " '[1 1 0 1 0 0 0 0 0 0 0]',\n",
       " '[1 1 1 0 0 0 0 0 0 0 0]',\n",
       " '[1 1 1 0 0 0 0 0 0 0 0]',\n",
       " '[1 1 1 0 0 0 0 0 0 0 0]',\n",
       " '[1 1 1 0 0 0 0 0 0 0 0]',\n",
       " '[1 1 1 0 0 0 0 0 0 0 0]',\n",
       " '[1 1 1 0 0 0 0 0 0 0 0]',\n",
       " '[1 1 1 0 0 0 0 0 0 0 0]',\n",
       " '[1 1 1 0 0 0 0 0 0 0 0]',\n",
       " '[1 1 1 0 0 0 0 0 0 0 0]',\n",
       " '[1 1 0 1 0 0 0 0 0 0 0]',\n",
       " '[1 1 1 0 0 0 0 0 0 0 0]',\n",
       " '[1 1 1 0 0 0 0 0 0 0 0]',\n",
       " '[1 1 1 0 0 0 0 0 0 0 0]',\n",
       " '[1 1 1 0 0 0 0 0 0 0 0]',\n",
       " '[1 1 1 0 0 0 0 0 0 0 0]',\n",
       " '[1 1 1 0 0 0 0 0 0 0 0]',\n",
       " '[1 1 1 0 0 0 0 0 0 0 0]',\n",
       " '[1 1 1 0 0 0 0 0 0 0 0]',\n",
       " '[1 1 1 0 0 0 0 0 0 0 0]',\n",
       " '[1 1 1 0 0 0 0 0 0 0 0]',\n",
       " '[1 1 1 0 0 0 0 0 0 0 0]',\n",
       " '[1 1 1 0 0 0 0 0 0 0 0]',\n",
       " '[1 1 1 0 0 0 0 0 0 0 0]',\n",
       " '[1 1 1 0 0 0 0 0 0 0 0]',\n",
       " '[1 1 1 0 0 0 0 0 0 0 0]',\n",
       " '[1 1 1 0 0 0 0 0 0 0 0]',\n",
       " '[1 1 1 0 0 0 0 0 0 0 0]',\n",
       " '[1 1 1 0 0 0 0 0 0 0 0]',\n",
       " '[1 1 1 0 0 0 0 0 0 0 0]',\n",
       " '[1 1 0 0 1 0 0 0 0 0 0]',\n",
       " '[1 1 1 0 0 0 0 0 0 0 0]',\n",
       " '[1 1 1 0 0 0 0 0 0 0 0]',\n",
       " '[1 1 1 0 0 0 0 0 0 0 0]',\n",
       " '[1 1 1 0 0 0 0 0 0 0 0]',\n",
       " '[1 1 0 0 0 1 0 0 0 0 0]',\n",
       " '[1 1 0 0 0 0 0 1 0 0 0]',\n",
       " '[1 1 1 0 0 0 0 0 0 0 0]',\n",
       " '[1 1 1 0 0 0 0 0 0 0 0]',\n",
       " '[1 1 1 0 0 0 0 0 0 0 0]',\n",
       " '[1 1 1 0 0 0 0 0 0 0 0]',\n",
       " '[1 1 1 0 0 0 0 0 0 0 0]',\n",
       " '[1 1 1 0 0 0 0 0 0 0 0]',\n",
       " '[1 1 1 0 0 0 0 0 0 0 0]',\n",
       " '[1 1 1 0 0 0 0 0 0 0 0]',\n",
       " '[1 1 1 0 0 0 0 0 0 0 0]',\n",
       " '[1 1 1 0 0 0 0 0 0 0 0]',\n",
       " '[1 1 1 0 0 0 0 0 0 0 0]',\n",
       " '[1 1 1 0 0 0 0 0 0 0 0]',\n",
       " '[1 1 1 0 0 0 0 0 0 0 0]',\n",
       " '[1 1 1 0 0 0 0 0 0 0 0]',\n",
       " '[1 1 1 0 0 0 0 0 0 0 0]',\n",
       " '[1 1 1 0 0 0 0 0 0 0 0]',\n",
       " '[1 1 0 1 0 0 0 0 0 0 0]',\n",
       " '[1 1 1 0 0 0 0 0 0 0 0]',\n",
       " '[1 1 1 0 0 0 0 0 0 0 0]',\n",
       " '[1 1 1 0 0 0 0 0 0 0 0]',\n",
       " '[1 1 0 1 0 0 0 0 0 0 0]',\n",
       " '[1 1 1 0 0 0 0 0 0 0 0]',\n",
       " '[1 1 1 0 0 0 0 0 0 0 0]',\n",
       " '[1 1 0 0 1 0 0 0 0 0 0]',\n",
       " '[1 1 0 0 1 0 0 0 0 0 0]',\n",
       " '[1 1 1 0 0 0 0 0 0 0 0]',\n",
       " '[1 1 1 0 0 0 0 0 0 0 0]',\n",
       " '[1 1 0 0 0 0 1 0 0 0 0]',\n",
       " '[1 1 0 1 0 0 0 0 0 0 0]',\n",
       " '[1 1 0 1 0 0 0 0 0 0 0]',\n",
       " '[1 1 1 0 0 0 0 0 0 0 0]',\n",
       " '[1 1 0 1 0 0 0 0 0 0 0]',\n",
       " '[1 1 0 1 0 0 0 0 0 0 0]',\n",
       " '[1 1 1 0 0 0 0 0 0 0 0]',\n",
       " '[1 1 0 0 1 0 0 0 0 0 0]',\n",
       " '[1 1 1 0 0 0 0 0 0 0 0]',\n",
       " '[1 1 1 0 0 0 0 0 0 0 0]',\n",
       " '[1 1 1 0 0 0 0 0 0 0 0]',\n",
       " '[1 1 1 0 0 0 0 0 0 0 0]',\n",
       " '[1 1 1 0 0 0 0 0 0 0 0]',\n",
       " '[1 1 1 0 0 0 0 0 0 0 0]',\n",
       " '[1 1 1 0 0 0 0 0 0 0 0]',\n",
       " '[1 1 1 0 0 0 0 0 0 0 0]',\n",
       " '[1 1 0 0 1 0 0 0 0 0 0]',\n",
       " '[1 1 1 0 0 0 0 0 0 0 0]',\n",
       " '[1 1 1 0 0 0 0 0 0 0 0]',\n",
       " '[1 1 1 0 0 0 0 0 0 0 0]',\n",
       " '[1 1 1 0 0 0 0 0 0 0 0]',\n",
       " '[1 1 1 0 0 0 0 0 0 0 0]',\n",
       " '[1 1 1 0 0 0 0 0 0 0 0]',\n",
       " '[1 1 1 0 0 0 0 0 0 0 0]',\n",
       " '[1 1 1 0 0 0 0 0 0 0 0]',\n",
       " '[1 1 1 0 0 0 0 0 0 0 0]',\n",
       " '[1 1 1 0 0 0 0 0 0 0 0]',\n",
       " '[1 1 1 0 0 0 0 0 0 0 0]',\n",
       " '[1 1 1 0 0 0 0 0 0 0 0]',\n",
       " '[1 1 1 0 0 0 0 0 0 0 0]',\n",
       " '[1 1 1 0 0 0 0 0 0 0 0]',\n",
       " '[1 1 1 0 0 0 0 0 0 0 0]',\n",
       " '[1 1 1 0 0 0 0 0 0 0 0]',\n",
       " '[1 1 0 1 0 0 0 0 0 0 0]',\n",
       " '[1 1 0 0 1 0 0 0 0 0 0]',\n",
       " '[1 1 1 0 0 0 0 0 0 0 0]',\n",
       " '[1 1 1 0 0 0 0 0 0 0 0]',\n",
       " '[1 1 0 0 1 0 0 0 0 0 0]',\n",
       " '[1 1 1 0 0 0 0 0 0 0 0]',\n",
       " '[1 1 1 0 0 0 0 0 0 0 0]',\n",
       " '[1 1 1 0 0 0 0 0 0 0 0]',\n",
       " '[1 1 1 0 0 0 0 0 0 0 0]',\n",
       " '[1 1 1 0 0 0 0 0 0 0 0]',\n",
       " '[1 1 1 0 0 0 0 0 0 0 0]',\n",
       " '[1 1 0 1 0 0 0 0 0 0 0]',\n",
       " '[1 1 1 0 0 0 0 0 0 0 0]',\n",
       " '[1 1 1 0 0 0 0 0 0 0 0]',\n",
       " '[1 1 1 0 0 0 0 0 0 0 0]',\n",
       " '[1 1 1 0 0 0 0 0 0 0 0]',\n",
       " '[1 1 1 0 0 0 0 0 0 0 0]',\n",
       " '[1 1 0 1 0 0 0 0 0 0 0]',\n",
       " '[1 1 1 0 0 0 0 0 0 0 0]',\n",
       " '[1 1 1 0 0 0 0 0 0 0 0]',\n",
       " '[1 1 1 0 0 0 0 0 0 0 0]',\n",
       " '[1 1 1 0 0 0 0 0 0 0 0]',\n",
       " '[1 1 1 0 0 0 0 0 0 0 0]',\n",
       " '[1 1 1 0 0 0 0 0 0 0 0]',\n",
       " '[1 1 1 0 0 0 0 0 0 0 0]',\n",
       " '[1 1 1 0 0 0 0 0 0 0 0]',\n",
       " '[1 1 1 0 0 0 0 0 0 0 0]',\n",
       " '[1 1 0 0 0 0 0 0 0 1 0]',\n",
       " '[1 1 1 0 0 0 0 0 0 0 0]',\n",
       " '[1 1 1 0 0 0 0 0 0 0 0]',\n",
       " '[1 1 0 1 0 0 0 0 0 0 0]',\n",
       " '[1 1 0 1 0 0 0 0 0 0 0]',\n",
       " '[1 1 1 0 0 0 0 0 0 0 0]',\n",
       " '[1 1 0 1 0 0 0 0 0 0 0]',\n",
       " '[1 1 1 0 0 0 0 0 0 0 0]',\n",
       " '[1 1 1 0 0 0 0 0 0 0 0]',\n",
       " '[1 1 0 0 1 0 0 0 0 0 0]',\n",
       " '[1 1 1 0 0 0 0 0 0 0 0]',\n",
       " '[1 1 1 0 0 0 0 0 0 0 0]',\n",
       " '[1 1 1 0 0 0 0 0 0 0 0]',\n",
       " '[1 1 1 0 0 0 0 0 0 0 0]',\n",
       " '[1 1 1 0 0 0 0 0 0 0 0]',\n",
       " '[1 1 1 0 0 0 0 0 0 0 0]',\n",
       " '[1 1 0 0 1 0 0 0 0 0 0]',\n",
       " '[1 1 0 1 0 0 0 0 0 0 0]',\n",
       " '[1 1 1 0 0 0 0 0 0 0 0]',\n",
       " '[1 1 1 0 0 0 0 0 0 0 0]',\n",
       " '[1 1 1 0 0 0 0 0 0 0 0]',\n",
       " '[1 1 1 0 0 0 0 0 0 0 0]',\n",
       " '[1 1 1 0 0 0 0 0 0 0 0]',\n",
       " '[1 1 1 0 0 0 0 0 0 0 0]',\n",
       " '[1 1 0 1 0 0 0 0 0 0 0]',\n",
       " '[1 1 0 1 0 0 0 0 0 0 0]',\n",
       " '[1 1 1 0 0 0 0 0 0 0 0]',\n",
       " '[1 1 1 0 0 0 0 0 0 0 0]',\n",
       " '[1 1 1 0 0 0 0 0 0 0 0]',\n",
       " '[1 1 1 0 0 0 0 0 0 0 0]',\n",
       " '[1 1 1 0 0 0 0 0 0 0 0]',\n",
       " '[1 1 1 0 0 0 0 0 0 0 0]',\n",
       " '[1 1 1 0 0 0 0 0 0 0 0]',\n",
       " '[1 1 1 0 0 0 0 0 0 0 0]',\n",
       " '[1 1 1 0 0 0 0 0 0 0 0]',\n",
       " '[1 1 1 0 0 0 0 0 0 0 0]',\n",
       " '[1 1 1 0 0 0 0 0 0 0 0]',\n",
       " '[1 1 1 0 0 0 0 0 0 0 0]',\n",
       " '[1 1 0 1 0 0 0 0 0 0 0]',\n",
       " '[1 1 1 0 0 0 0 0 0 0 0]',\n",
       " '[1 1 1 0 0 0 0 0 0 0 0]',\n",
       " '[1 1 0 0 0 1 0 0 0 0 0]',\n",
       " '[1 1 1 0 0 0 0 0 0 0 0]',\n",
       " '[1 1 1 0 0 0 0 0 0 0 0]',\n",
       " '[1 1 1 0 0 0 0 0 0 0 0]',\n",
       " '[1 1 1 0 0 0 0 0 0 0 0]',\n",
       " '[1 1 1 0 0 0 0 0 0 0 0]',\n",
       " '[1 1 0 1 0 0 0 0 0 0 0]',\n",
       " '[1 1 1 0 0 0 0 0 0 0 0]',\n",
       " '[1 1 1 0 0 0 0 0 0 0 0]',\n",
       " '[1 1 1 0 0 0 0 0 0 0 0]',\n",
       " '[1 1 1 0 0 0 0 0 0 0 0]',\n",
       " '[1 1 1 0 0 0 0 0 0 0 0]',\n",
       " '[1 1 0 0 1 0 0 0 0 0 0]',\n",
       " '[1 1 1 0 0 0 0 0 0 0 0]',\n",
       " '[1 1 1 0 0 0 0 0 0 0 0]',\n",
       " '[1 1 1 0 0 0 0 0 0 0 0]',\n",
       " '[1 1 1 0 0 0 0 0 0 0 0]',\n",
       " '[1 1 1 0 0 0 0 0 0 0 0]',\n",
       " '[1 1 1 0 0 0 0 0 0 0 0]',\n",
       " '[1 1 1 0 0 0 0 0 0 0 0]',\n",
       " '[1 1 1 0 0 0 0 0 0 0 0]',\n",
       " '[1 1 1 0 0 0 0 0 0 0 0]',\n",
       " '[1 1 1 0 0 0 0 0 0 0 0]',\n",
       " '[1 1 1 0 0 0 0 0 0 0 0]',\n",
       " '[1 1 0 1 0 0 0 0 0 0 0]',\n",
       " '[1 1 1 0 0 0 0 0 0 0 0]',\n",
       " '[1 1 1 0 0 0 0 0 0 0 0]',\n",
       " '[1 1 0 1 0 0 0 0 0 0 0]',\n",
       " '[1 1 1 0 0 0 0 0 0 0 0]',\n",
       " '[1 1 1 0 0 0 0 0 0 0 0]',\n",
       " '[1 1 0 1 0 0 0 0 0 0 0]',\n",
       " '[1 1 1 0 0 0 0 0 0 0 0]',\n",
       " '[1 1 1 0 0 0 0 0 0 0 0]',\n",
       " '[1 1 1 0 0 0 0 0 0 0 0]',\n",
       " '[1 1 1 0 0 0 0 0 0 0 0]',\n",
       " '[1 1 1 0 0 0 0 0 0 0 0]',\n",
       " '[1 1 0 1 0 0 0 0 0 0 0]',\n",
       " '[1 1 1 0 0 0 0 0 0 0 0]',\n",
       " '[1 1 1 0 0 0 0 0 0 0 0]',\n",
       " '[1 1 1 0 0 0 0 0 0 0 0]',\n",
       " '[1 1 1 0 0 0 0 0 0 0 0]',\n",
       " '[1 1 1 0 0 0 0 0 0 0 0]',\n",
       " '[1 1 1 0 0 0 0 0 0 0 0]',\n",
       " '[1 1 1 0 0 0 0 0 0 0 0]',\n",
       " '[1 1 1 0 0 0 0 0 0 0 0]',\n",
       " '[1 1 1 0 0 0 0 0 0 0 0]',\n",
       " '[1 1 1 0 0 0 0 0 0 0 0]',\n",
       " '[1 1 1 0 0 0 0 0 0 0 0]',\n",
       " '[1 1 0 0 0 0 0 0 0 1 0]',\n",
       " '[1 1 1 0 0 0 0 0 0 0 0]',\n",
       " '[1 1 1 0 0 0 0 0 0 0 0]',\n",
       " '[1 1 1 0 0 0 0 0 0 0 0]',\n",
       " '[1 1 1 0 0 0 0 0 0 0 0]',\n",
       " '[1 1 1 0 0 0 0 0 0 0 0]',\n",
       " '[1 1 0 1 0 0 0 0 0 0 0]',\n",
       " '[1 1 0 1 0 0 0 0 0 0 0]',\n",
       " '[1 1 1 0 0 0 0 0 0 0 0]',\n",
       " '[1 1 1 0 0 0 0 0 0 0 0]',\n",
       " '[1 1 1 0 0 0 0 0 0 0 0]',\n",
       " '[1 1 1 0 0 0 0 0 0 0 0]',\n",
       " '[1 1 0 0 1 0 0 0 0 0 0]',\n",
       " '[1 1 0 1 0 0 0 0 0 0 0]',\n",
       " '[1 1 1 0 0 0 0 0 0 0 0]',\n",
       " '[1 1 0 1 0 0 0 0 0 0 0]',\n",
       " '[1 1 1 0 0 0 0 0 0 0 0]',\n",
       " '[1 1 1 0 0 0 0 0 0 0 0]',\n",
       " '[1 1 0 0 1 0 0 0 0 0 0]',\n",
       " '[1 1 1 0 0 0 0 0 0 0 0]',\n",
       " '[1 1 1 0 0 0 0 0 0 0 0]',\n",
       " '[1 1 0 0 1 0 0 0 0 0 0]',\n",
       " '[1 1 1 0 0 0 0 0 0 0 0]',\n",
       " '[1 1 1 0 0 0 0 0 0 0 0]',\n",
       " '[1 1 1 0 0 0 0 0 0 0 0]',\n",
       " '[1 1 0 1 0 0 0 0 0 0 0]',\n",
       " '[1 1 1 0 0 0 0 0 0 0 0]',\n",
       " '[1 1 1 0 0 0 0 0 0 0 0]',\n",
       " '[1 1 0 1 0 0 0 0 0 0 0]',\n",
       " '[1 1 1 0 0 0 0 0 0 0 0]',\n",
       " '[1 1 1 0 0 0 0 0 0 0 0]',\n",
       " '[1 1 0 1 0 0 0 0 0 0 0]',\n",
       " '[1 1 1 0 0 0 0 0 0 0 0]',\n",
       " '[1 1 1 0 0 0 0 0 0 0 0]',\n",
       " '[1 1 1 0 0 0 0 0 0 0 0]',\n",
       " '[1 1 1 0 0 0 0 0 0 0 0]',\n",
       " '[1 1 1 0 0 0 0 0 0 0 0]',\n",
       " '[1 1 1 0 0 0 0 0 0 0 0]',\n",
       " '[1 1 1 0 0 0 0 0 0 0 0]',\n",
       " '[1 1 1 0 0 0 0 0 0 0 0]',\n",
       " '[1 1 1 0 0 0 0 0 0 0 0]',\n",
       " '[1 1 1 0 0 0 0 0 0 0 0]',\n",
       " '[1 1 1 0 0 0 0 0 0 0 0]',\n",
       " '[1 1 1 0 0 0 0 0 0 0 0]',\n",
       " '[1 1 1 0 0 0 0 0 0 0 0]',\n",
       " '[1 1 0 1 0 0 0 0 0 0 0]',\n",
       " '[1 1 1 0 0 0 0 0 0 0 0]',\n",
       " '[1 1 1 0 0 0 0 0 0 0 0]',\n",
       " '[1 1 1 0 0 0 0 0 0 0 0]',\n",
       " '[1 1 1 0 0 0 0 0 0 0 0]',\n",
       " '[1 1 1 0 0 0 0 0 0 0 0]',\n",
       " '[1 1 0 0 1 0 0 0 0 0 0]',\n",
       " '[1 1 1 0 0 0 0 0 0 0 0]',\n",
       " '[1 1 1 0 0 0 0 0 0 0 0]',\n",
       " '[1 1 1 0 0 0 0 0 0 0 0]',\n",
       " '[1 1 1 0 0 0 0 0 0 0 0]',\n",
       " '[1 1 1 0 0 0 0 0 0 0 0]',\n",
       " '[1 1 1 0 0 0 0 0 0 0 0]',\n",
       " '[1 1 1 0 0 0 0 0 0 0 0]',\n",
       " '[1 1 1 0 0 0 0 0 0 0 0]',\n",
       " '[1 1 0 1 0 0 0 0 0 0 0]',\n",
       " '[1 1 1 0 0 0 0 0 0 0 0]',\n",
       " '[1 1 1 0 0 0 0 0 0 0 0]',\n",
       " '[1 1 0 1 0 0 0 0 0 0 0]',\n",
       " '[1 1 1 0 0 0 0 0 0 0 0]',\n",
       " '[1 1 1 0 0 0 0 0 0 0 0]',\n",
       " '[1 1 1 0 0 0 0 0 0 0 0]',\n",
       " '[1 1 1 0 0 0 0 0 0 0 0]',\n",
       " '[1 1 0 0 1 0 0 0 0 0 0]',\n",
       " '[1 1 1 0 0 0 0 0 0 0 0]',\n",
       " '[1 1 1 0 0 0 0 0 0 0 0]',\n",
       " '[1 1 1 0 0 0 0 0 0 0 0]',\n",
       " '[1 1 1 0 0 0 0 0 0 0 0]',\n",
       " '[1 1 1 0 0 0 0 0 0 0 0]',\n",
       " '[1 1 1 0 0 0 0 0 0 0 0]',\n",
       " '[1 1 1 0 0 0 0 0 0 0 0]',\n",
       " '[1 1 1 0 0 0 0 0 0 0 0]',\n",
       " '[1 1 0 1 0 0 0 0 0 0 0]',\n",
       " '[1 1 1 0 0 0 0 0 0 0 0]',\n",
       " '[1 1 0 0 0 1 0 0 0 0 0]',\n",
       " '[1 1 1 0 0 0 0 0 0 0 0]',\n",
       " '[1 1 1 0 0 0 0 0 0 0 0]',\n",
       " '[1 1 1 0 0 0 0 0 0 0 0]',\n",
       " '[1 1 1 0 0 0 0 0 0 0 0]',\n",
       " '[1 1 0 1 0 0 0 0 0 0 0]',\n",
       " '[1 1 1 0 0 0 0 0 0 0 0]',\n",
       " '[1 1 1 0 0 0 0 0 0 0 0]',\n",
       " '[1 1 1 0 0 0 0 0 0 0 0]',\n",
       " '[1 1 0 1 0 0 0 0 0 0 0]',\n",
       " '[1 1 0 1 0 0 0 0 0 0 0]',\n",
       " '[1 1 1 0 0 0 0 0 0 0 0]',\n",
       " '[1 1 0 1 0 0 0 0 0 0 0]',\n",
       " '[1 1 1 0 0 0 0 0 0 0 0]',\n",
       " '[1 1 1 0 0 0 0 0 0 0 0]',\n",
       " '[1 1 1 0 0 0 0 0 0 0 0]',\n",
       " '[1 1 1 0 0 0 0 0 0 0 0]',\n",
       " '[1 1 1 0 0 0 0 0 0 0 0]',\n",
       " '[1 1 1 0 0 0 0 0 0 0 0]',\n",
       " '[1 1 1 0 0 0 0 0 0 0 0]',\n",
       " '[1 1 1 0 0 0 0 0 0 0 0]',\n",
       " '[1 1 1 0 0 0 0 0 0 0 0]',\n",
       " '[1 1 1 0 0 0 0 0 0 0 0]',\n",
       " '[1 1 1 0 0 0 0 0 0 0 0]',\n",
       " '[1 1 1 0 0 0 0 0 0 0 0]',\n",
       " '[1 1 0 1 0 0 0 0 0 0 0]',\n",
       " '[1 1 1 0 0 0 0 0 0 0 0]',\n",
       " '[1 1 1 0 0 0 0 0 0 0 0]',\n",
       " '[1 1 1 0 0 0 0 0 0 0 0]',\n",
       " '[1 1 1 0 0 0 0 0 0 0 0]',\n",
       " '[1 1 1 0 0 0 0 0 0 0 0]',\n",
       " '[1 1 1 0 0 0 0 0 0 0 0]',\n",
       " '[1 1 1 0 0 0 0 0 0 0 0]',\n",
       " '[1 1 1 0 0 0 0 0 0 0 0]',\n",
       " '[1 1 1 0 0 0 0 0 0 0 0]',\n",
       " '[1 1 1 0 0 0 0 0 0 0 0]',\n",
       " '[1 1 1 0 0 0 0 0 0 0 0]',\n",
       " '[1 1 1 0 0 0 0 0 0 0 0]',\n",
       " '[1 1 1 0 0 0 0 0 0 0 0]',\n",
       " '[1 1 1 0 0 0 0 0 0 0 0]',\n",
       " '[1 1 1 0 0 0 0 0 0 0 0]',\n",
       " '[1 1 1 0 0 0 0 0 0 0 0]',\n",
       " '[1 1 1 0 0 0 0 0 0 0 0]',\n",
       " '[1 1 1 0 0 0 0 0 0 0 0]',\n",
       " '[1 1 1 0 0 0 0 0 0 0 0]',\n",
       " '[1 1 1 0 0 0 0 0 0 0 0]',\n",
       " '[1 1 1 0 0 0 0 0 0 0 0]',\n",
       " '[1 1 1 0 0 0 0 0 0 0 0]',\n",
       " '[1 1 1 0 0 0 0 0 0 0 0]',\n",
       " '[1 1 1 0 0 0 0 0 0 0 0]',\n",
       " '[1 1 0 0 1 0 0 0 0 0 0]',\n",
       " '[1 1 0 1 0 0 0 0 0 0 0]',\n",
       " '[1 1 1 0 0 0 0 0 0 0 0]',\n",
       " '[1 1 1 0 0 0 0 0 0 0 0]',\n",
       " '[1 1 1 0 0 0 0 0 0 0 0]',\n",
       " '[1 1 1 0 0 0 0 0 0 0 0]',\n",
       " '[1 1 0 0 1 0 0 0 0 0 0]',\n",
       " '[1 1 1 0 0 0 0 0 0 0 0]',\n",
       " '[1 1 1 0 0 0 0 0 0 0 0]',\n",
       " '[1 1 0 1 0 0 0 0 0 0 0]',\n",
       " '[1 1 1 0 0 0 0 0 0 0 0]',\n",
       " '[1 1 1 0 0 0 0 0 0 0 0]',\n",
       " '[1 1 1 0 0 0 0 0 0 0 0]',\n",
       " '[1 1 1 0 0 0 0 0 0 0 0]',\n",
       " '[1 1 1 0 0 0 0 0 0 0 0]',\n",
       " '[1 1 1 0 0 0 0 0 0 0 0]',\n",
       " '[1 1 1 0 0 0 0 0 0 0 0]',\n",
       " '[1 1 1 0 0 0 0 0 0 0 0]',\n",
       " '[1 1 0 1 0 0 0 0 0 0 0]',\n",
       " '[1 1 1 0 0 0 0 0 0 0 0]',\n",
       " '[1 1 1 0 0 0 0 0 0 0 0]',\n",
       " '[1 1 1 0 0 0 0 0 0 0 0]',\n",
       " '[1 1 1 0 0 0 0 0 0 0 0]',\n",
       " '[1 1 1 0 0 0 0 0 0 0 0]',\n",
       " '[1 1 1 0 0 0 0 0 0 0 0]',\n",
       " '[1 1 0 1 0 0 0 0 0 0 0]',\n",
       " '[1 1 1 0 0 0 0 0 0 0 0]',\n",
       " '[1 1 1 0 0 0 0 0 0 0 0]',\n",
       " '[1 1 1 0 0 0 0 0 0 0 0]',\n",
       " '[1 1 1 0 0 0 0 0 0 0 0]',\n",
       " '[1 1 1 0 0 0 0 0 0 0 0]',\n",
       " '[1 1 1 0 0 0 0 0 0 0 0]',\n",
       " '[1 1 0 1 0 0 0 0 0 0 0]',\n",
       " '[1 1 1 0 0 0 0 0 0 0 0]',\n",
       " '[1 1 1 0 0 0 0 0 0 0 0]',\n",
       " '[1 1 0 0 1 0 0 0 0 0 0]',\n",
       " '[1 1 1 0 0 0 0 0 0 0 0]',\n",
       " '[1 1 1 0 0 0 0 0 0 0 0]',\n",
       " '[1 1 1 0 0 0 0 0 0 0 0]',\n",
       " '[1 1 1 0 0 0 0 0 0 0 0]',\n",
       " '[1 1 1 0 0 0 0 0 0 0 0]',\n",
       " '[1 1 0 1 0 0 0 0 0 0 0]',\n",
       " '[1 1 1 0 0 0 0 0 0 0 0]',\n",
       " '[1 1 1 0 0 0 0 0 0 0 0]',\n",
       " '[1 1 1 0 0 0 0 0 0 0 0]',\n",
       " '[1 1 1 0 0 0 0 0 0 0 0]',\n",
       " '[1 1 1 0 0 0 0 0 0 0 0]',\n",
       " '[1 1 1 0 0 0 0 0 0 0 0]',\n",
       " '[1 1 1 0 0 0 0 0 0 0 0]',\n",
       " '[1 1 1 0 0 0 0 0 0 0 0]',\n",
       " '[1 1 1 0 0 0 0 0 0 0 0]',\n",
       " '[1 1 1 0 0 0 0 0 0 0 0]',\n",
       " '[1 1 1 0 0 0 0 0 0 0 0]',\n",
       " '[1 1 0 1 0 0 0 0 0 0 0]',\n",
       " '[1 1 1 0 0 0 0 0 0 0 0]',\n",
       " '[1 1 1 0 0 0 0 0 0 0 0]',\n",
       " '[1 1 1 0 0 0 0 0 0 0 0]',\n",
       " '[1 1 1 0 0 0 0 0 0 0 0]',\n",
       " '[1 1 0 1 0 0 0 0 0 0 0]',\n",
       " '[1 1 1 0 0 0 0 0 0 0 0]',\n",
       " '[1 1 0 1 0 0 0 0 0 0 0]',\n",
       " '[1 1 1 0 0 0 0 0 0 0 0]',\n",
       " '[1 1 1 0 0 0 0 0 0 0 0]',\n",
       " '[1 1 0 0 1 0 0 0 0 0 0]',\n",
       " '[1 1 1 0 0 0 0 0 0 0 0]',\n",
       " '[1 1 1 0 0 0 0 0 0 0 0]',\n",
       " '[1 1 0 0 1 0 0 0 0 0 0]',\n",
       " '[1 1 1 0 0 0 0 0 0 0 0]',\n",
       " '[1 1 1 0 0 0 0 0 0 0 0]',\n",
       " '[1 1 1 0 0 0 0 0 0 0 0]',\n",
       " '[1 1 1 0 0 0 0 0 0 0 0]',\n",
       " '[1 1 1 0 0 0 0 0 0 0 0]',\n",
       " '[1 1 1 0 0 0 0 0 0 0 0]',\n",
       " '[1 1 1 0 0 0 0 0 0 0 0]',\n",
       " '[1 1 1 0 0 0 0 0 0 0 0]',\n",
       " '[1 1 1 0 0 0 0 0 0 0 0]',\n",
       " '[1 1 1 0 0 0 0 0 0 0 0]',\n",
       " '[1 1 1 0 0 0 0 0 0 0 0]',\n",
       " '[1 1 1 0 0 0 0 0 0 0 0]',\n",
       " '[1 1 1 0 0 0 0 0 0 0 0]',\n",
       " '[1 1 0 1 0 0 0 0 0 0 0]',\n",
       " '[1 1 1 0 0 0 0 0 0 0 0]',\n",
       " '[1 1 1 0 0 0 0 0 0 0 0]',\n",
       " '[1 1 1 0 0 0 0 0 0 0 0]',\n",
       " '[1 1 1 0 0 0 0 0 0 0 0]',\n",
       " '[1 1 1 0 0 0 0 0 0 0 0]',\n",
       " '[1 1 1 0 0 0 0 0 0 0 0]',\n",
       " '[1 1 0 1 0 0 0 0 0 0 0]',\n",
       " '[1 1 1 0 0 0 0 0 0 0 0]',\n",
       " '[1 1 1 0 0 0 0 0 0 0 0]',\n",
       " '[1 1 0 1 0 0 0 0 0 0 0]',\n",
       " '[1 1 1 0 0 0 0 0 0 0 0]',\n",
       " '[1 1 1 0 0 0 0 0 0 0 0]',\n",
       " '[1 1 0 0 0 0 1 0 0 0 0]',\n",
       " '[1 1 1 0 0 0 0 0 0 0 0]',\n",
       " '[1 1 0 1 0 0 0 1 0 0 0]',\n",
       " '[1 1 1 0 0 0 0 0 0 0 0]',\n",
       " '[1 1 1 0 0 0 0 0 0 0 0]',\n",
       " '[1 1 0 1 0 0 0 0 0 0 0]',\n",
       " '[1 1 1 0 0 0 0 0 0 0 0]',\n",
       " '[1 1 1 0 0 0 0 0 0 0 0]',\n",
       " '[1 1 0 0 1 0 0 0 0 0 0]',\n",
       " '[1 1 1 0 0 0 0 0 0 0 0]',\n",
       " '[1 1 0 1 0 0 0 0 0 0 0]',\n",
       " '[1 1 1 0 0 0 0 0 0 0 0]',\n",
       " '[1 1 1 0 0 0 0 0 0 0 0]',\n",
       " '[1 1 1 0 0 0 0 0 0 0 0]',\n",
       " '[1 1 1 0 0 0 0 0 0 0 0]',\n",
       " '[1 1 1 0 0 0 0 0 0 0 0]',\n",
       " '[1 1 1 0 0 0 0 0 0 0 0]',\n",
       " '[1 1 0 1 0 0 0 0 0 0 0]',\n",
       " '[1 1 0 1 0 0 0 0 0 0 0]',\n",
       " '[1 1 1 0 0 0 0 0 0 0 0]',\n",
       " '[1 1 0 1 0 0 0 0 0 0 0]',\n",
       " '[1 1 1 0 0 0 0 0 0 0 0]',\n",
       " '[1 1 1 0 0 0 0 0 0 0 0]',\n",
       " '[1 1 1 0 0 0 0 0 0 0 0]',\n",
       " '[1 1 1 0 0 0 0 0 0 0 0]',\n",
       " '[1 1 1 0 0 0 0 0 0 0 0]',\n",
       " '[1 1 1 0 0 0 0 0 0 0 0]',\n",
       " '[1 1 0 1 0 0 0 0 0 0 0]',\n",
       " '[1 1 1 0 0 0 0 0 0 0 0]',\n",
       " '[1 1 1 0 0 0 0 0 0 0 0]',\n",
       " '[1 1 1 0 0 0 0 0 0 0 0]',\n",
       " '[1 1 1 0 0 0 0 0 0 0 0]',\n",
       " '[1 1 1 0 0 0 0 0 0 0 0]',\n",
       " '[1 1 1 0 0 0 0 0 0 0 0]',\n",
       " '[1 1 1 0 0 0 0 0 0 0 0]',\n",
       " '[1 1 1 0 0 0 0 0 0 0 0]',\n",
       " '[1 1 1 0 0 0 0 0 0 0 0]',\n",
       " '[1 1 0 1 0 0 0 0 0 0 0]',\n",
       " '[1 1 1 0 0 0 0 0 0 0 0]',\n",
       " '[1 1 1 0 0 0 0 0 0 0 0]',\n",
       " '[1 1 0 1 0 0 0 1 0 0 0]',\n",
       " '[1 1 1 0 0 0 0 0 0 0 0]',\n",
       " '[1 1 1 0 0 0 0 0 0 0 0]',\n",
       " '[1 1 1 0 0 0 0 0 0 0 0]',\n",
       " '[1 1 1 0 0 0 0 0 0 0 0]',\n",
       " '[1 1 1 0 0 0 0 0 0 0 0]',\n",
       " '[1 1 1 0 0 0 0 0 0 0 0]',\n",
       " '[1 1 1 0 0 0 0 0 0 0 0]',\n",
       " '[1 1 1 0 0 0 0 0 0 0 0]',\n",
       " '[1 1 1 0 0 0 0 0 0 0 0]',\n",
       " '[1 1 1 0 0 0 0 0 0 0 0]',\n",
       " '[1 1 0 1 0 0 0 0 0 0 0]',\n",
       " '[1 1 0 1 0 0 0 0 0 0 0]',\n",
       " '[1 1 1 0 0 0 0 0 0 0 0]',\n",
       " '[1 1 0 1 0 0 0 0 0 0 0]',\n",
       " '[1 1 1 0 0 0 0 0 0 0 0]',\n",
       " '[1 1 0 1 0 0 0 0 0 0 0]',\n",
       " '[1 1 0 1 0 0 0 0 0 0 0]',\n",
       " '[1 1 1 0 0 0 0 0 0 0 0]',\n",
       " '[1 1 1 0 0 0 0 0 0 0 0]',\n",
       " '[1 1 1 0 0 0 0 0 0 0 0]',\n",
       " '[1 1 1 0 0 0 0 0 0 0 0]',\n",
       " '[1 1 1 0 0 0 0 0 0 0 0]',\n",
       " '[1 1 1 0 0 0 0 0 0 0 0]',\n",
       " '[1 1 1 0 0 0 0 0 0 0 0]',\n",
       " '[1 1 0 1 0 0 0 0 0 0 0]',\n",
       " '[1 1 1 0 0 0 0 0 0 0 0]',\n",
       " '[1 1 1 0 0 0 0 0 0 0 0]',\n",
       " '[1 1 1 0 0 0 0 0 0 0 0]',\n",
       " '[1 1 0 0 1 0 0 0 0 0 0]',\n",
       " '[1 1 0 0 0 1 0 0 0 0 0]',\n",
       " '[1 1 1 0 0 0 0 0 0 0 0]',\n",
       " '[1 1 1 0 0 0 0 0 0 0 0]',\n",
       " '[1 1 1 0 0 0 0 0 0 0 0]',\n",
       " '[1 1 0 1 0 0 0 0 0 0 0]',\n",
       " '[1 1 0 0 1 0 0 0 0 0 0]',\n",
       " '[1 1 0 0 1 0 0 0 0 0 0]',\n",
       " '[1 1 1 0 0 0 0 0 0 0 0]',\n",
       " '[1 1 1 0 0 0 0 0 0 0 0]',\n",
       " '[1 1 0 0 1 0 0 0 0 0 0]',\n",
       " '[1 1 1 0 0 0 0 0 0 0 0]',\n",
       " '[1 1 1 0 0 0 0 0 0 0 0]',\n",
       " '[1 1 1 0 0 0 0 0 0 0 0]',\n",
       " '[1 1 1 0 0 0 0 0 0 0 0]',\n",
       " '[1 1 1 0 0 0 0 0 0 0 0]',\n",
       " '[1 1 1 0 0 0 0 0 0 0 0]',\n",
       " '[1 1 1 0 0 0 0 0 0 0 0]',\n",
       " '[1 1 1 0 0 0 0 0 0 0 0]',\n",
       " '[1 1 1 0 0 0 0 0 0 0 0]',\n",
       " '[1 1 1 0 0 0 0 0 0 0 0]',\n",
       " '[1 1 1 0 0 0 0 0 0 0 0]',\n",
       " '[1 1 1 0 0 0 0 0 0 0 0]',\n",
       " '[1 1 1 0 0 0 0 0 0 0 0]',\n",
       " '[1 1 0 0 0 1 0 0 0 0 0]',\n",
       " '[1 1 1 0 0 0 0 0 0 0 0]',\n",
       " '[1 1 1 0 0 0 0 0 0 0 0]',\n",
       " '[1 1 1 0 0 0 0 0 0 0 0]',\n",
       " '[1 1 0 1 0 0 0 0 0 0 0]',\n",
       " '[1 1 1 0 0 0 0 0 0 0 0]',\n",
       " '[1 1 0 1 0 0 0 0 0 0 0]',\n",
       " '[1 1 1 0 0 0 0 0 0 0 0]',\n",
       " '[1 1 1 0 0 0 0 0 0 0 0]',\n",
       " '[1 1 1 0 0 0 0 0 0 0 0]',\n",
       " '[1 1 1 0 0 0 0 0 0 0 0]',\n",
       " '[1 1 0 1 0 0 0 0 0 0 0]',\n",
       " '[1 1 1 0 0 0 0 0 0 0 0]',\n",
       " '[1 1 1 0 0 0 0 0 0 0 0]',\n",
       " '[1 1 1 0 0 0 0 0 0 0 0]',\n",
       " '[1 1 1 0 0 0 0 0 0 0 0]',\n",
       " '[1 1 1 0 0 0 0 0 0 0 0]',\n",
       " '[1 1 1 0 0 0 0 0 0 0 0]',\n",
       " '[1 1 0 0 0 0 0 0 1 0 0]',\n",
       " '[1 1 1 0 0 0 0 0 0 0 0]',\n",
       " '[1 1 1 0 0 0 0 0 0 0 0]',\n",
       " '[1 1 0 1 0 0 0 0 0 0 0]',\n",
       " '[1 1 1 0 0 0 0 0 0 0 0]',\n",
       " '[1 1 0 1 0 0 0 0 0 0 0]',\n",
       " '[1 1 1 0 0 0 0 0 0 0 0]',\n",
       " '[1 1 1 0 0 0 0 0 0 0 0]',\n",
       " '[1 1 1 0 0 0 0 0 0 0 0]',\n",
       " '[1 1 0 1 0 0 0 0 0 0 0]',\n",
       " '[1 1 1 0 0 0 0 0 0 0 0]',\n",
       " '[1 1 0 1 0 0 0 0 0 0 0]',\n",
       " '[1 1 1 0 0 0 0 0 0 0 0]',\n",
       " '[1 1 1 0 0 0 0 0 0 0 0]',\n",
       " '[1 1 1 0 0 0 0 0 0 0 0]',\n",
       " '[1 1 1 0 0 0 0 0 0 0 0]',\n",
       " '[1 1 0 1 0 0 0 0 0 0 0]',\n",
       " '[1 1 1 0 0 0 0 0 0 0 0]',\n",
       " '[1 1 0 1 0 0 0 0 0 0 0]',\n",
       " '[1 1 1 0 0 0 0 0 0 0 0]',\n",
       " '[1 1 1 0 0 0 0 0 0 0 0]',\n",
       " '[1 1 1 0 0 0 0 0 0 0 0]',\n",
       " '[1 1 1 0 0 0 0 0 0 0 0]',\n",
       " '[1 1 1 0 0 0 0 0 0 0 0]',\n",
       " '[1 1 1 0 0 0 0 0 0 0 0]',\n",
       " '[1 1 1 0 0 0 0 0 0 0 0]',\n",
       " '[1 1 1 0 0 0 0 0 0 0 0]',\n",
       " '[1 1 1 0 0 0 0 0 0 0 0]',\n",
       " '[1 1 0 1 0 0 0 0 0 0 0]',\n",
       " '[1 1 1 0 0 0 0 0 0 0 0]',\n",
       " '[1 1 1 0 0 0 0 0 0 0 0]',\n",
       " '[1 1 1 0 0 0 0 0 0 0 0]',\n",
       " '[1 1 1 0 0 0 0 0 0 0 0]',\n",
       " '[1 1 1 0 0 0 0 0 0 0 0]',\n",
       " '[1 1 1 0 0 0 0 0 0 0 0]',\n",
       " '[1 1 1 0 0 0 0 0 0 0 0]',\n",
       " '[1 1 1 0 0 0 0 0 0 0 0]',\n",
       " '[1 1 1 0 0 0 0 0 0 0 0]',\n",
       " '[1 1 0 0 1 0 0 0 0 0 0]',\n",
       " '[1 1 0 1 0 0 0 0 0 0 0]',\n",
       " '[1 1 1 0 0 0 0 0 0 0 0]',\n",
       " '[1 1 1 0 0 0 0 0 0 0 0]',\n",
       " '[1 1 1 0 0 0 0 0 0 0 0]',\n",
       " '[1 1 1 0 0 0 0 0 0 0 0]',\n",
       " '[1 1 1 0 0 0 0 0 0 0 0]',\n",
       " '[1 1 1 0 0 0 0 0 0 0 0]',\n",
       " '[1 1 1 0 0 0 0 0 0 0 0]',\n",
       " '[1 1 0 0 0 0 1 0 0 0 0]',\n",
       " '[1 1 1 0 0 0 0 0 0 0 0]',\n",
       " '[1 1 1 0 0 0 0 0 0 0 0]',\n",
       " '[1 1 0 1 0 0 0 0 0 0 0]',\n",
       " '[1 1 0 1 0 0 0 0 0 0 0]',\n",
       " '[1 1 1 0 0 0 0 0 0 0 0]',\n",
       " '[1 1 1 0 0 0 0 0 0 0 0]',\n",
       " '[1 1 0 1 0 0 0 0 0 0 0]',\n",
       " '[1 1 0 1 0 0 0 0 0 0 0]',\n",
       " '[1 1 0 0 1 0 0 0 0 0 0]',\n",
       " '[1 1 1 0 0 0 0 0 0 0 0]',\n",
       " '[1 1 1 0 0 0 0 0 0 0 0]',\n",
       " '[1 1 1 0 0 0 0 0 0 0 0]',\n",
       " '[1 1 1 0 0 0 0 0 0 0 0]',\n",
       " '[1 1 0 1 0 0 0 0 0 0 0]',\n",
       " '[1 1 1 0 0 0 0 0 0 0 0]',\n",
       " '[1 1 1 0 0 0 0 0 0 0 0]',\n",
       " '[1 1 1 0 0 0 0 0 0 0 0]',\n",
       " '[1 1 1 0 0 0 0 0 0 0 0]',\n",
       " '[1 1 1 0 0 0 0 0 0 0 0]',\n",
       " '[1 1 1 0 0 0 0 0 0 0 0]',\n",
       " '[1 1 1 0 0 0 0 0 0 0 0]',\n",
       " '[1 1 1 0 0 0 0 0 0 0 0]',\n",
       " '[1 1 1 0 0 0 0 0 0 0 0]',\n",
       " '[1 1 1 0 0 0 0 0 0 0 0]',\n",
       " '[1 1 1 0 0 0 0 0 0 0 0]',\n",
       " '[1 1 1 0 0 0 0 0 0 0 0]',\n",
       " '[1 1 0 1 0 0 0 0 0 0 0]',\n",
       " '[1 1 1 0 0 0 0 0 0 0 0]',\n",
       " '[1 1 1 0 0 0 0 0 0 0 0]',\n",
       " '[1 1 1 0 0 0 0 0 0 0 0]',\n",
       " '[1 1 1 0 0 0 0 0 0 0 0]',\n",
       " '[1 1 1 0 0 0 0 0 0 0 0]',\n",
       " '[1 1 1 0 0 0 0 0 0 0 0]',\n",
       " '[1 1 1 0 0 0 0 0 0 0 0]',\n",
       " '[1 1 0 1 0 0 0 0 0 0 0]',\n",
       " '[1 1 1 0 0 0 0 0 0 0 0]',\n",
       " '[1 1 1 0 0 0 0 0 0 0 0]',\n",
       " '[1 1 1 0 0 0 0 0 0 0 0]',\n",
       " '[1 1 1 0 0 0 0 0 0 0 0]',\n",
       " '[1 1 1 0 0 0 0 0 0 0 0]',\n",
       " '[1 1 0 0 0 0 0 1 0 0 0]',\n",
       " '[1 1 1 0 0 0 0 0 0 0 0]',\n",
       " '[1 1 1 0 0 0 0 0 0 0 0]',\n",
       " '[1 1 1 0 0 0 0 0 0 0 0]',\n",
       " '[1 1 1 0 0 0 0 0 0 0 0]',\n",
       " '[1 1 1 0 0 0 0 0 0 0 0]',\n",
       " '[1 1 1 0 0 0 0 0 0 0 0]',\n",
       " '[1 1 0 1 0 0 0 0 0 0 0]',\n",
       " '[1 1 1 0 0 0 0 0 0 0 0]',\n",
       " '[1 1 1 0 0 0 0 0 0 0 0]',\n",
       " '[1 1 1 0 0 0 0 0 0 0 0]',\n",
       " '[1 1 0 0 0 1 0 0 0 0 0]',\n",
       " '[1 1 1 0 0 0 0 0 0 0 0]',\n",
       " '[1 1 1 0 0 0 0 0 0 0 0]',\n",
       " '[1 1 1 0 0 0 0 0 0 0 0]',\n",
       " '[1 1 1 0 0 0 0 0 0 0 0]',\n",
       " '[1 1 1 0 0 0 0 0 0 0 0]',\n",
       " '[1 1 0 0 1 0 0 0 0 0 0]',\n",
       " '[1 1 1 0 0 0 0 0 0 0 0]',\n",
       " '[1 1 1 0 0 0 0 0 0 0 0]',\n",
       " '[1 1 1 0 0 0 0 0 0 0 0]',\n",
       " '[1 1 1 0 0 0 0 0 0 0 0]',\n",
       " '[1 1 1 0 0 0 0 0 0 0 0]',\n",
       " '[1 1 0 1 0 0 0 0 0 0 0]',\n",
       " '[1 1 1 0 0 0 0 0 0 0 0]',\n",
       " '[1 1 0 0 1 0 0 0 0 0 0]',\n",
       " '[1 1 1 0 0 0 0 0 0 0 0]',\n",
       " '[1 1 0 0 0 0 1 0 0 0 0]',\n",
       " '[1 1 0 1 0 0 0 0 0 0 0]',\n",
       " '[1 1 1 0 0 0 0 0 0 0 0]',\n",
       " '[1 1 0 1 0 0 0 0 0 0 0]',\n",
       " '[1 1 1 0 0 0 0 0 0 0 0]',\n",
       " '[1 1 1 0 0 0 0 0 0 0 0]',\n",
       " '[1 1 1 0 0 0 0 0 0 0 0]',\n",
       " '[1 1 1 0 0 0 0 0 0 0 0]',\n",
       " '[1 1 1 0 0 0 0 0 0 0 0]',\n",
       " '[1 1 1 0 0 0 0 0 0 0 0]',\n",
       " '[1 1 1 0 0 0 0 0 0 0 0]',\n",
       " '[1 1 1 0 0 0 0 0 0 0 0]',\n",
       " '[1 1 1 0 0 0 0 0 0 0 0]',\n",
       " '[1 1 1 0 0 0 0 0 0 0 0]',\n",
       " '[1 1 1 0 0 0 0 0 0 0 0]',\n",
       " '[1 1 1 0 0 0 0 0 0 0 0]',\n",
       " '[1 1 1 0 0 0 0 0 0 0 0]',\n",
       " '[1 1 1 0 0 0 0 0 0 0 0]',\n",
       " '[1 1 1 0 0 0 0 0 0 0 0]',\n",
       " '[1 1 0 0 0 1 0 0 0 0 0]',\n",
       " '[1 1 0 1 0 0 0 0 0 0 0]',\n",
       " '[1 1 0 1 0 0 0 0 0 0 0]',\n",
       " '[1 1 1 0 0 0 0 0 0 0 0]',\n",
       " '[1 1 1 0 0 0 0 0 0 0 0]',\n",
       " '[1 1 1 0 0 0 0 0 0 0 0]',\n",
       " '[1 1 1 0 0 0 0 0 0 0 0]',\n",
       " '[1 1 0 1 0 0 0 0 0 0 0]',\n",
       " '[1 1 1 0 0 0 0 0 0 0 0]',\n",
       " '[1 1 1 0 0 0 0 0 0 0 0]',\n",
       " '[1 1 1 0 0 0 0 0 0 0 0]',\n",
       " '[1 1 0 0 0 1 0 0 0 0 0]',\n",
       " '[1 1 1 0 0 0 0 0 0 0 0]',\n",
       " '[1 1 1 0 0 0 0 0 0 0 0]',\n",
       " '[1 1 0 1 0 0 0 0 0 0 0]',\n",
       " '[1 1 1 0 0 0 0 0 0 0 0]',\n",
       " '[1 1 1 0 0 0 0 0 0 0 0]',\n",
       " '[1 1 0 0 1 0 0 0 0 0 0]',\n",
       " '[1 1 1 0 0 0 0 0 0 0 0]',\n",
       " '[1 1 1 0 0 0 0 0 0 0 0]',\n",
       " '[1 1 1 0 0 0 0 0 0 0 0]',\n",
       " '[1 1 1 0 0 0 0 0 0 0 0]',\n",
       " '[1 1 0 0 1 0 0 0 0 0 0]',\n",
       " '[1 1 0 1 0 0 0 0 0 0 0]',\n",
       " '[1 1 1 0 0 0 0 0 0 0 0]',\n",
       " '[1 1 1 0 0 0 0 0 0 0 0]',\n",
       " '[1 1 1 0 0 0 0 0 0 0 0]',\n",
       " '[1 1 1 0 0 0 0 0 0 0 0]',\n",
       " '[1 1 1 0 0 0 0 0 0 0 0]',\n",
       " '[1 1 1 0 0 0 0 0 0 0 0]',\n",
       " '[1 1 1 0 0 0 0 0 0 0 0]',\n",
       " '[1 1 1 0 0 0 0 0 0 0 0]',\n",
       " '[1 1 1 0 0 0 0 0 0 0 0]',\n",
       " '[1 1 1 0 0 0 0 0 0 0 0]',\n",
       " '[1 1 0 1 0 0 0 0 0 0 0]',\n",
       " '[1 1 1 0 0 0 0 0 0 0 0]',\n",
       " '[1 1 1 0 0 0 0 0 0 0 0]',\n",
       " '[1 1 1 0 0 0 0 0 0 0 0]',\n",
       " '[1 1 1 0 0 0 0 0 0 0 0]',\n",
       " '[1 1 1 0 0 0 0 0 0 0 0]',\n",
       " '[1 1 1 0 0 0 0 0 0 0 0]',\n",
       " '[1 1 0 1 0 0 0 0 0 0 0]',\n",
       " '[1 1 1 0 0 0 0 0 0 0 0]',\n",
       " '[1 1 1 0 0 0 0 0 0 0 0]',\n",
       " '[1 1 1 0 0 0 0 0 0 0 0]',\n",
       " '[1 1 1 0 0 0 0 0 0 0 0]',\n",
       " '[1 1 1 0 0 0 0 0 0 0 0]',\n",
       " '[1 1 1 0 0 0 0 0 0 0 0]',\n",
       " '[1 1 1 0 0 0 0 0 0 0 0]',\n",
       " '[1 1 0 0 1 0 0 0 0 0 0]',\n",
       " '[1 1 1 0 0 0 0 0 0 0 0]',\n",
       " '[1 1 1 0 0 0 0 0 0 0 0]',\n",
       " '[1 1 1 0 0 0 0 0 0 0 0]',\n",
       " '[1 1 0 1 0 0 0 0 0 0 0]',\n",
       " '[1 1 1 0 0 0 0 0 0 0 0]',\n",
       " '[1 1 0 0 1 0 0 0 0 0 0]',\n",
       " '[1 1 1 0 0 0 0 0 0 0 0]',\n",
       " '[1 1 1 0 0 0 0 0 0 0 0]',\n",
       " '[1 1 1 0 0 0 0 0 0 0 0]',\n",
       " '[1 1 1 0 0 0 0 0 0 0 0]',\n",
       " '[1 1 1 0 0 0 0 0 0 0 0]',\n",
       " '[1 1 1 0 0 0 0 0 0 0 0]',\n",
       " '[1 1 1 0 0 0 0 0 0 0 0]',\n",
       " '[1 1 1 0 0 0 0 0 0 0 0]',\n",
       " '[1 1 1 0 0 0 0 0 0 0 0]',\n",
       " '[1 1 1 0 0 0 0 0 0 0 0]',\n",
       " '[1 1 0 1 0 0 0 0 0 0 0]',\n",
       " '[1 1 0 0 0 1 0 0 0 0 0]',\n",
       " '[1 1 1 0 0 0 0 0 0 0 0]',\n",
       " '[1 1 1 0 0 0 0 0 0 0 0]',\n",
       " '[1 1 1 0 0 0 0 0 0 0 0]',\n",
       " '[1 1 1 0 0 0 0 0 0 0 0]',\n",
       " '[1 1 1 0 0 0 0 0 0 0 0]',\n",
       " '[1 1 1 0 0 0 0 0 0 0 0]',\n",
       " '[1 1 1 0 0 0 0 0 0 0 0]',\n",
       " '[1 1 1 0 0 0 0 0 0 0 0]',\n",
       " '[1 1 1 0 0 0 0 0 0 0 0]',\n",
       " '[1 1 1 0 0 0 0 0 0 0 0]',\n",
       " '[1 1 1 0 0 0 0 0 0 0 0]',\n",
       " '[1 1 1 0 0 0 0 0 0 0 0]',\n",
       " '[1 1 1 0 0 0 0 0 0 0 0]',\n",
       " '[1 1 1 0 0 0 0 0 0 0 0]',\n",
       " '[1 1 1 0 0 0 0 0 0 0 0]',\n",
       " '[1 1 1 0 0 0 0 0 0 0 0]',\n",
       " '[1 1 1 0 0 0 0 0 0 0 0]',\n",
       " '[1 1 1 0 0 0 0 0 0 0 0]',\n",
       " '[1 1 0 1 0 0 0 0 0 0 0]',\n",
       " '[1 1 1 0 0 0 0 0 0 0 0]',\n",
       " '[1 1 1 0 0 0 0 0 0 0 0]',\n",
       " '[1 1 1 0 0 0 0 0 0 0 0]',\n",
       " '[1 1 1 0 0 0 0 0 0 0 0]',\n",
       " '[1 1 1 0 0 0 0 0 0 0 0]',\n",
       " '[1 1 1 0 0 0 0 0 0 0 0]',\n",
       " '[1 1 1 0 0 0 0 0 0 0 0]',\n",
       " '[1 1 1 0 0 0 0 0 0 0 0]',\n",
       " '[1 1 1 0 0 0 0 0 0 0 0]',\n",
       " '[1 1 0 1 0 0 0 0 0 0 0]',\n",
       " '[1 1 1 0 0 0 0 0 0 0 0]',\n",
       " '[1 1 1 0 0 0 0 0 0 0 0]',\n",
       " '[1 1 1 0 0 0 0 0 0 0 0]',\n",
       " '[1 1 1 0 0 0 0 0 0 0 0]',\n",
       " '[1 1 1 0 0 0 0 0 0 0 0]',\n",
       " '[1 1 1 0 0 0 0 0 0 0 0]',\n",
       " '[1 1 0 1 0 0 0 0 0 0 0]',\n",
       " '[1 1 1 0 0 0 0 0 0 0 0]',\n",
       " '[1 1 0 1 0 0 0 0 0 0 0]',\n",
       " '[1 1 1 0 0 0 0 0 0 0 0]',\n",
       " '[1 1 1 0 0 0 0 0 0 0 0]',\n",
       " '[1 1 1 0 0 0 0 0 0 0 0]',\n",
       " '[1 1 0 0 1 0 0 0 0 0 0]',\n",
       " '[1 1 1 0 0 0 0 0 0 0 0]',\n",
       " '[1 1 1 0 0 0 0 0 0 0 0]',\n",
       " '[1 1 1 0 0 0 0 0 0 0 0]',\n",
       " '[1 1 1 0 0 0 0 0 0 0 0]',\n",
       " '[1 1 1 0 0 0 0 0 0 0 0]',\n",
       " '[1 1 1 0 0 0 0 0 0 0 0]',\n",
       " '[1 1 1 0 0 0 0 0 0 0 0]',\n",
       " '[1 1 1 0 0 0 0 0 0 0 0]',\n",
       " '[1 1 0 0 0 0 0 0 1 0 0]',\n",
       " '[1 1 1 0 0 0 0 0 0 0 0]',\n",
       " '[1 1 1 0 0 0 0 0 0 0 0]',\n",
       " '[1 1 1 0 0 0 0 0 0 0 0]',\n",
       " '[1 1 1 0 0 0 0 0 0 0 0]',\n",
       " '[1 1 1 0 0 0 0 0 0 0 0]',\n",
       " '[1 1 1 0 0 0 0 0 0 0 0]',\n",
       " '[1 1 1 0 0 0 0 0 0 0 0]',\n",
       " '[1 1 1 0 0 0 0 0 0 0 0]',\n",
       " '[1 1 0 0 0 0 1 0 0 0 0]',\n",
       " ...]"
      ]
     },
     "execution_count": 63,
     "metadata": {},
     "output_type": "execute_result"
    }
   ],
   "source": [
    "a"
   ]
  },
  {
   "cell_type": "code",
   "execution_count": 64,
   "metadata": {},
   "outputs": [],
   "source": [
    "pred_df = pd.DataFrame(y_test_text.values,a)"
   ]
  },
  {
   "cell_type": "code",
   "execution_count": 65,
   "metadata": {},
   "outputs": [
    {
     "data": {
      "text/html": [
       "<div>\n",
       "<style scoped>\n",
       "    .dataframe tbody tr th:only-of-type {\n",
       "        vertical-align: middle;\n",
       "    }\n",
       "\n",
       "    .dataframe tbody tr th {\n",
       "        vertical-align: top;\n",
       "    }\n",
       "\n",
       "    .dataframe thead th {\n",
       "        text-align: right;\n",
       "    }\n",
       "</style>\n",
       "<table border=\"1\" class=\"dataframe\">\n",
       "  <thead>\n",
       "    <tr style=\"text-align: right;\">\n",
       "      <th></th>\n",
       "      <th>0</th>\n",
       "    </tr>\n",
       "  </thead>\n",
       "  <tbody>\n",
       "    <tr>\n",
       "      <th>[1 1 1 0 0 0 0 0 0 0 0]</th>\n",
       "      <td>1.0</td>\n",
       "    </tr>\n",
       "    <tr>\n",
       "      <th>[1 1 1 0 0 0 0 0 0 0 0]</th>\n",
       "      <td>1.0</td>\n",
       "    </tr>\n",
       "    <tr>\n",
       "      <th>[1 1 0 0 0 1 0 0 0 0 0]</th>\n",
       "      <td>4.0</td>\n",
       "    </tr>\n",
       "    <tr>\n",
       "      <th>[1 1 1 0 0 0 0 0 0 0 0]</th>\n",
       "      <td>1.0</td>\n",
       "    </tr>\n",
       "    <tr>\n",
       "      <th>[1 1 1 0 0 0 0 0 0 0 0]</th>\n",
       "      <td>1.0</td>\n",
       "    </tr>\n",
       "    <tr>\n",
       "      <th>...</th>\n",
       "      <td>...</td>\n",
       "    </tr>\n",
       "    <tr>\n",
       "      <th>[1 1 1 0 0 0 0 0 0 0 0]</th>\n",
       "      <td>1.0</td>\n",
       "    </tr>\n",
       "    <tr>\n",
       "      <th>[1 1 1 0 0 0 0 0 0 0 0]</th>\n",
       "      <td>1.0</td>\n",
       "    </tr>\n",
       "    <tr>\n",
       "      <th>[1 1 0 1 0 0 0 0 0 0 0]</th>\n",
       "      <td>2.0</td>\n",
       "    </tr>\n",
       "    <tr>\n",
       "      <th>[1 1 0 0 1 0 0 0 0 0 0]</th>\n",
       "      <td>3.0</td>\n",
       "    </tr>\n",
       "    <tr>\n",
       "      <th>[1 1 1 0 0 0 0 0 0 0 0]</th>\n",
       "      <td>1.0</td>\n",
       "    </tr>\n",
       "  </tbody>\n",
       "</table>\n",
       "<p>10696 rows × 1 columns</p>\n",
       "</div>"
      ],
      "text/plain": [
       "                           0\n",
       "[1 1 1 0 0 0 0 0 0 0 0]  1.0\n",
       "[1 1 1 0 0 0 0 0 0 0 0]  1.0\n",
       "[1 1 0 0 0 1 0 0 0 0 0]  4.0\n",
       "[1 1 1 0 0 0 0 0 0 0 0]  1.0\n",
       "[1 1 1 0 0 0 0 0 0 0 0]  1.0\n",
       "...                      ...\n",
       "[1 1 1 0 0 0 0 0 0 0 0]  1.0\n",
       "[1 1 1 0 0 0 0 0 0 0 0]  1.0\n",
       "[1 1 0 1 0 0 0 0 0 0 0]  2.0\n",
       "[1 1 0 0 1 0 0 0 0 0 0]  3.0\n",
       "[1 1 1 0 0 0 0 0 0 0 0]  1.0\n",
       "\n",
       "[10696 rows x 1 columns]"
      ]
     },
     "execution_count": 65,
     "metadata": {},
     "output_type": "execute_result"
    }
   ],
   "source": [
    "pred_df"
   ]
  },
  {
   "cell_type": "code",
   "execution_count": 66,
   "metadata": {},
   "outputs": [],
   "source": [
    "pred_df=pred_df.reset_index()"
   ]
  },
  {
   "cell_type": "code",
   "execution_count": 67,
   "metadata": {},
   "outputs": [
    {
     "data": {
      "text/html": [
       "<div>\n",
       "<style scoped>\n",
       "    .dataframe tbody tr th:only-of-type {\n",
       "        vertical-align: middle;\n",
       "    }\n",
       "\n",
       "    .dataframe tbody tr th {\n",
       "        vertical-align: top;\n",
       "    }\n",
       "\n",
       "    .dataframe thead th {\n",
       "        text-align: right;\n",
       "    }\n",
       "</style>\n",
       "<table border=\"1\" class=\"dataframe\">\n",
       "  <thead>\n",
       "    <tr style=\"text-align: right;\">\n",
       "      <th></th>\n",
       "      <th>index</th>\n",
       "      <th>0</th>\n",
       "    </tr>\n",
       "  </thead>\n",
       "  <tbody>\n",
       "    <tr>\n",
       "      <th>0</th>\n",
       "      <td>[1 1 1 0 0 0 0 0 0 0 0]</td>\n",
       "      <td>1.0</td>\n",
       "    </tr>\n",
       "    <tr>\n",
       "      <th>1</th>\n",
       "      <td>[1 1 1 0 0 0 0 0 0 0 0]</td>\n",
       "      <td>1.0</td>\n",
       "    </tr>\n",
       "    <tr>\n",
       "      <th>2</th>\n",
       "      <td>[1 1 0 0 0 1 0 0 0 0 0]</td>\n",
       "      <td>4.0</td>\n",
       "    </tr>\n",
       "    <tr>\n",
       "      <th>3</th>\n",
       "      <td>[1 1 1 0 0 0 0 0 0 0 0]</td>\n",
       "      <td>1.0</td>\n",
       "    </tr>\n",
       "    <tr>\n",
       "      <th>4</th>\n",
       "      <td>[1 1 1 0 0 0 0 0 0 0 0]</td>\n",
       "      <td>1.0</td>\n",
       "    </tr>\n",
       "    <tr>\n",
       "      <th>...</th>\n",
       "      <td>...</td>\n",
       "      <td>...</td>\n",
       "    </tr>\n",
       "    <tr>\n",
       "      <th>10691</th>\n",
       "      <td>[1 1 1 0 0 0 0 0 0 0 0]</td>\n",
       "      <td>1.0</td>\n",
       "    </tr>\n",
       "    <tr>\n",
       "      <th>10692</th>\n",
       "      <td>[1 1 1 0 0 0 0 0 0 0 0]</td>\n",
       "      <td>1.0</td>\n",
       "    </tr>\n",
       "    <tr>\n",
       "      <th>10693</th>\n",
       "      <td>[1 1 0 1 0 0 0 0 0 0 0]</td>\n",
       "      <td>2.0</td>\n",
       "    </tr>\n",
       "    <tr>\n",
       "      <th>10694</th>\n",
       "      <td>[1 1 0 0 1 0 0 0 0 0 0]</td>\n",
       "      <td>3.0</td>\n",
       "    </tr>\n",
       "    <tr>\n",
       "      <th>10695</th>\n",
       "      <td>[1 1 1 0 0 0 0 0 0 0 0]</td>\n",
       "      <td>1.0</td>\n",
       "    </tr>\n",
       "  </tbody>\n",
       "</table>\n",
       "<p>10696 rows × 2 columns</p>\n",
       "</div>"
      ],
      "text/plain": [
       "                         index    0\n",
       "0      [1 1 1 0 0 0 0 0 0 0 0]  1.0\n",
       "1      [1 1 1 0 0 0 0 0 0 0 0]  1.0\n",
       "2      [1 1 0 0 0 1 0 0 0 0 0]  4.0\n",
       "3      [1 1 1 0 0 0 0 0 0 0 0]  1.0\n",
       "4      [1 1 1 0 0 0 0 0 0 0 0]  1.0\n",
       "...                        ...  ...\n",
       "10691  [1 1 1 0 0 0 0 0 0 0 0]  1.0\n",
       "10692  [1 1 1 0 0 0 0 0 0 0 0]  1.0\n",
       "10693  [1 1 0 1 0 0 0 0 0 0 0]  2.0\n",
       "10694  [1 1 0 0 1 0 0 0 0 0 0]  3.0\n",
       "10695  [1 1 1 0 0 0 0 0 0 0 0]  1.0\n",
       "\n",
       "[10696 rows x 2 columns]"
      ]
     },
     "execution_count": 67,
     "metadata": {},
     "output_type": "execute_result"
    }
   ],
   "source": [
    "pred_df"
   ]
  },
  {
   "cell_type": "code",
   "execution_count": 34,
   "metadata": {},
   "outputs": [],
   "source": [
    "train_labels=mlb.transform(y_train_text.astype('str'))"
   ]
  },
  {
   "cell_type": "code",
   "execution_count": 35,
   "metadata": {},
   "outputs": [
    {
     "data": {
      "text/plain": [
       "(21716, 11)"
      ]
     },
     "execution_count": 35,
     "metadata": {},
     "output_type": "execute_result"
    }
   ],
   "source": [
    "train_labels.shape"
   ]
  },
  {
   "cell_type": "code",
   "execution_count": 36,
   "metadata": {},
   "outputs": [],
   "source": [
    "test_labels=mlb.transform(y_test_text.astype('str'))"
   ]
  },
  {
   "cell_type": "code",
   "execution_count": 37,
   "metadata": {},
   "outputs": [
    {
     "data": {
      "text/plain": [
       "(10696, 11)"
      ]
     },
     "execution_count": 37,
     "metadata": {},
     "output_type": "execute_result"
    }
   ],
   "source": [
    "test_labels.shape"
   ]
  },
  {
   "cell_type": "code",
   "execution_count": 41,
   "metadata": {},
   "outputs": [],
   "source": [
    "def compile_model(embedding_matrix):\n",
    "    lstm_input = Input(shape=(MAX_SEQUENCE_LENGTH,))\n",
    "    x = Embedding(embedding_matrix.shape[0], embedding_matrix.shape[1], mask_zero=True, input_length=MAX_SEQUENCE_LENGTH, trainable=False)(lstm_input)\n",
    "    x = Dropout(0.3)(x)\n",
    "    x = LSTM(64, return_sequences = True)(x)\n",
    "    x = Dropout(0.3)(x)\n",
    "    x = LSTM(64)(x)\n",
    "    x = Dropout(0.4)(x)\n",
    "    lstm_out = Dense(18, activation = 'relu')(x)\n",
    "\n",
    "    print(X_img_train_array.shape[1], X_img_train_array.shape[2], X_img_train_array.shape[3])\n",
    "    cnn_input = Input(shape=(X_img_train_array.shape[1], X_img_train_array.shape[2], X_img_train_array.shape[3]))\n",
    "    y = Conv2D(32, (3, 3), activation='relu', input_shape=(X_img_train_array.shape[1], X_img_train_array.shape[2], X_img_train_array.shape[3]))(cnn_input)\n",
    "    y = MaxPooling2D(2, 2)(y)\n",
    "    y = Conv2D(64, (3, 3), activation='relu')(y)\n",
    "    y = MaxPooling2D(2, 2)(y)\n",
    "    y = Conv2D(128, (3, 3), activation='relu')(y)\n",
    "    y = MaxPooling2D(2, 2)(y)\n",
    "    y = Conv2D(128, (3, 3), activation='relu')(y)\n",
    "    y = MaxPooling2D(2, 2)(y)\n",
    "    y = Flatten()(y)\n",
    "    y = Dropout(0.4)(y)\n",
    "    cnn_out = Dense(512, activation='relu')(y)\n",
    "\n",
    "    concat_inp = concatenate([cnn_out, lstm_out])\n",
    "    z = Dense(256, activation='relu')(concat_inp)\n",
    "    z = Dropout(0.3)(z)\n",
    "    z = Dense(128, activation='relu')(z)\n",
    "    z = Dropout(0.4)(z)\n",
    "    output = Dense(train_labels.shape[1], activation='sigmoid')(z)\n",
    "\n",
    "    model = Model(inputs=[cnn_input, lstm_input], outputs=[output])\n",
    "    adam = Adam(lr=0.001, decay=1e-5)\n",
    "  \n",
    "    model.compile(loss='binary_crossentropy', optimizer=adam, metrics=['accuracy'])\n",
    "    return model"
   ]
  },
  {
   "cell_type": "code",
   "execution_count": 42,
   "metadata": {},
   "outputs": [
    {
     "name": "stdout",
     "output_type": "stream",
     "text": [
      "115 75 3\n",
      "Model: \"model_1\"\n",
      "__________________________________________________________________________________________________\n",
      "Layer (type)                    Output Shape         Param #     Connected to                     \n",
      "==================================================================================================\n",
      "input_4 (InputLayer)            [(None, 115, 75, 3)] 0                                            \n",
      "__________________________________________________________________________________________________\n",
      "conv2d_4 (Conv2D)               (None, 113, 73, 32)  896         input_4[0][0]                    \n",
      "__________________________________________________________________________________________________\n",
      "max_pooling2d_4 (MaxPooling2D)  (None, 56, 36, 32)   0           conv2d_4[0][0]                   \n",
      "__________________________________________________________________________________________________\n",
      "conv2d_5 (Conv2D)               (None, 54, 34, 64)   18496       max_pooling2d_4[0][0]            \n",
      "__________________________________________________________________________________________________\n",
      "max_pooling2d_5 (MaxPooling2D)  (None, 27, 17, 64)   0           conv2d_5[0][0]                   \n",
      "__________________________________________________________________________________________________\n",
      "input_3 (InputLayer)            [(None, 357)]        0                                            \n",
      "__________________________________________________________________________________________________\n",
      "conv2d_6 (Conv2D)               (None, 25, 15, 128)  73856       max_pooling2d_5[0][0]            \n",
      "__________________________________________________________________________________________________\n",
      "embedding_1 (Embedding)         (None, 357, 100)     2092000     input_3[0][0]                    \n",
      "__________________________________________________________________________________________________\n",
      "max_pooling2d_6 (MaxPooling2D)  (None, 12, 7, 128)   0           conv2d_6[0][0]                   \n",
      "__________________________________________________________________________________________________\n",
      "dropout_6 (Dropout)             (None, 357, 100)     0           embedding_1[0][0]                \n",
      "__________________________________________________________________________________________________\n",
      "conv2d_7 (Conv2D)               (None, 10, 5, 128)   147584      max_pooling2d_6[0][0]            \n",
      "__________________________________________________________________________________________________\n",
      "lstm_2 (LSTM)                   (None, 357, 64)      42240       dropout_6[0][0]                  \n",
      "__________________________________________________________________________________________________\n",
      "max_pooling2d_7 (MaxPooling2D)  (None, 5, 2, 128)    0           conv2d_7[0][0]                   \n",
      "__________________________________________________________________________________________________\n",
      "dropout_7 (Dropout)             (None, 357, 64)      0           lstm_2[0][0]                     \n",
      "__________________________________________________________________________________________________\n",
      "flatten_1 (Flatten)             (None, 1280)         0           max_pooling2d_7[0][0]            \n",
      "__________________________________________________________________________________________________\n",
      "lstm_3 (LSTM)                   (None, 64)           33024       dropout_7[0][0]                  \n",
      "__________________________________________________________________________________________________\n",
      "dropout_9 (Dropout)             (None, 1280)         0           flatten_1[0][0]                  \n",
      "__________________________________________________________________________________________________\n",
      "dropout_8 (Dropout)             (None, 64)           0           lstm_3[0][0]                     \n",
      "__________________________________________________________________________________________________\n",
      "dense_6 (Dense)                 (None, 512)          655872      dropout_9[0][0]                  \n",
      "__________________________________________________________________________________________________\n",
      "dense_5 (Dense)                 (None, 18)           1170        dropout_8[0][0]                  \n",
      "__________________________________________________________________________________________________\n",
      "concatenate_1 (Concatenate)     (None, 530)          0           dense_6[0][0]                    \n",
      "                                                                 dense_5[0][0]                    \n",
      "__________________________________________________________________________________________________\n",
      "dense_7 (Dense)                 (None, 256)          135936      concatenate_1[0][0]              \n",
      "__________________________________________________________________________________________________\n",
      "dropout_10 (Dropout)            (None, 256)          0           dense_7[0][0]                    \n",
      "__________________________________________________________________________________________________\n",
      "dense_8 (Dense)                 (None, 128)          32896       dropout_10[0][0]                 \n",
      "__________________________________________________________________________________________________\n",
      "dropout_11 (Dropout)            (None, 128)          0           dense_8[0][0]                    \n",
      "__________________________________________________________________________________________________\n",
      "dense_9 (Dense)                 (None, 11)           1419        dropout_11[0][0]                 \n",
      "==================================================================================================\n",
      "Total params: 3,235,389\n",
      "Trainable params: 1,143,389\n",
      "Non-trainable params: 2,092,000\n",
      "__________________________________________________________________________________________________\n"
     ]
    }
   ],
   "source": [
    "word2vec_model = compile_model(glove_embedding_matrix)\n",
    "word2vec_model.summary()"
   ]
  },
  {
   "cell_type": "code",
   "execution_count": 43,
   "metadata": {},
   "outputs": [
    {
     "name": "stdout",
     "output_type": "stream",
     "text": [
      "Epoch 1/5\n",
      "340/340 [==============================] - 235s 670ms/step - loss: 0.1755 - accuracy: 0.5912 - val_loss: 0.1206 - val_accuracy: 1.0000\n",
      "Epoch 2/5\n",
      "340/340 [==============================] - 232s 682ms/step - loss: 0.1234 - accuracy: 0.6774 - val_loss: 0.1206 - val_accuracy: 1.0000\n",
      "Epoch 3/5\n",
      "340/340 [==============================] - 230s 678ms/step - loss: 0.1236 - accuracy: 0.6067 - val_loss: 0.1200 - val_accuracy: 1.0000\n",
      "Epoch 4/5\n",
      "340/340 [==============================] - 233s 685ms/step - loss: 0.1207 - accuracy: 0.5873 - val_loss: 0.1200 - val_accuracy: 1.0000\n",
      "Epoch 5/5\n",
      "340/340 [==============================] - 234s 689ms/step - loss: 0.1183 - accuracy: 0.6654 - val_loss: 0.1192 - val_accuracy: 0.9944\n"
     ]
    }
   ],
   "source": [
    "batch_size = 64\n",
    "num_epochs = 5\n",
    "history=word2vec_model.fit([X_img_train_array,X_text_train],train_labels,validation_data=([X_img_test_array,X_text_test],test_labels),batch_size=batch_size, epochs=num_epochs)"
   ]
  },
  {
   "cell_type": "code",
   "execution_count": 44,
   "metadata": {},
   "outputs": [],
   "source": [
    "cv_test=[]\n",
    "test_folder=r'C:/Users/ACER/Downloads/Saikat_project/Shopee/test_images'\n",
    "\n",
    "file = os.listdir(test_folder)\n",
    "for j in file:\n",
    "\n",
    "    img = cv2.imread('C:/Users/ACER/Downloads/Saikat_project/Shopee/test_images/'+j)\n",
    "    img = cv2.resize(img, (75, 115))\n",
    "    img = img.astype(np.float32)/255\n",
    "    cv_test.append(img)"
   ]
  },
  {
   "cell_type": "code",
   "execution_count": 45,
   "metadata": {},
   "outputs": [],
   "source": [
    "X_test_img = np.asarray(cv_test)"
   ]
  },
  {
   "cell_type": "code",
   "execution_count": 46,
   "metadata": {},
   "outputs": [],
   "source": [
    "test = pd.read_csv(\"C:/Users/ACER/Downloads/Saikat_project/Shopee/test.csv\")"
   ]
  },
  {
   "cell_type": "code",
   "execution_count": 47,
   "metadata": {},
   "outputs": [],
   "source": [
    "stop = stopwords.words('english') #preprocessing steps\n",
    "from nltk.stem.wordnet import WordNetLemmatizer\n",
    "from nltk.tokenize import word_tokenize\n",
    "import string\n",
    "lemmatizer = WordNetLemmatizer()\n",
    "\n",
    "def clean_text(text):\n",
    "    text = text.translate(str.maketrans('', '', string.punctuation))\n",
    "    text = text.lower().strip()\n",
    "    text = ' '.join([i if i not in stop and i.isalpha() else '' for i in text.lower().split()])\n",
    "    text = ' '.join([lemmatizer.lemmatize(w) for w in word_tokenize(text)])\n",
    "    text = re.sub(r\"\\s{2,}\", \" \", text)\n",
    "    return text"
   ]
  },
  {
   "cell_type": "code",
   "execution_count": 48,
   "metadata": {},
   "outputs": [],
   "source": [
    "test['cleaned_text']=test['title'].apply(clean_text) #preprocessing steps"
   ]
  },
  {
   "cell_type": "code",
   "execution_count": 49,
   "metadata": {},
   "outputs": [
    {
     "name": "stdout",
     "output_type": "stream",
     "text": [
      "Shape of train tensor: (3, 357)\n"
     ]
    }
   ],
   "source": [
    "X_test = tokenizer.texts_to_sequences(test['cleaned_text'].values)\n",
    "X_test = pad_sequences(X_test, maxlen=MAX_SEQUENCE_LENGTH)\n",
    "print('Shape of train tensor:', X_test.shape)"
   ]
  },
  {
   "cell_type": "code",
   "execution_count": 50,
   "metadata": {},
   "outputs": [
    {
     "data": {
      "text/plain": [
       "(3, 115, 75, 3)"
      ]
     },
     "execution_count": 50,
     "metadata": {},
     "output_type": "execute_result"
    }
   ],
   "source": [
    "X_test_img.shape"
   ]
  },
  {
   "cell_type": "code",
   "execution_count": 51,
   "metadata": {},
   "outputs": [
    {
     "data": {
      "text/plain": [
       "(21716, 115, 75, 3)"
      ]
     },
     "execution_count": 51,
     "metadata": {},
     "output_type": "execute_result"
    }
   ],
   "source": [
    "X_img_train_array.shape"
   ]
  },
  {
   "cell_type": "code",
   "execution_count": 53,
   "metadata": {},
   "outputs": [
    {
     "name": "stdout",
     "output_type": "stream",
     "text": [
      "1/1 [==============================] - 8s 8s/step\n"
     ]
    }
   ],
   "source": [
    "pred_val=word2vec_model.predict([X_test_img,X_test],verbose=1)"
   ]
  },
  {
   "cell_type": "code",
   "execution_count": 54,
   "metadata": {},
   "outputs": [
    {
     "data": {
      "text/plain": [
       "array([[0.9999891 , 0.99998766, 0.80160177, 0.11288956, 0.03940669,\n",
       "        0.01320955, 0.00738901, 0.00342879, 0.00227898, 0.00178978,\n",
       "        0.00118816],\n",
       "       [0.99991095, 0.99989057, 0.74277544, 0.14895791, 0.06601715,\n",
       "        0.0273796 , 0.01744783, 0.00951231, 0.00680885, 0.0057545 ,\n",
       "        0.00419465],\n",
       "       [0.9997434 , 0.99969345, 0.72248363, 0.16971019, 0.08326289,\n",
       "        0.03842363, 0.02629423, 0.01539993, 0.01166314, 0.01011455,\n",
       "        0.00766712]], dtype=float32)"
      ]
     },
     "execution_count": 54,
     "metadata": {},
     "output_type": "execute_result"
    }
   ],
   "source": [
    "pred_val"
   ]
  },
  {
   "cell_type": "code",
   "execution_count": 55,
   "metadata": {},
   "outputs": [
    {
     "data": {
      "text/plain": [
       "array([[1, 1, 1, 0, 0, 0, 0, 0, 0, 0, 0],\n",
       "       [1, 1, 1, 0, 0, 0, 0, 0, 0, 0, 0],\n",
       "       [1, 1, 1, 0, 0, 0, 0, 0, 0, 0, 0]])"
      ]
     },
     "execution_count": 55,
     "metadata": {},
     "output_type": "execute_result"
    }
   ],
   "source": [
    "pred_labels = np.where(pred_val > 0.5, 1,0)\n",
    "pred_labels"
   ]
  },
  {
   "cell_type": "code",
   "execution_count": 68,
   "metadata": {},
   "outputs": [],
   "source": [
    "b=[]\n",
    "for i in pred_labels:\n",
    "    b.append(str(i))\n",
    "pred_df_1=pd.DataFrame(b)\n",
    "pred_df['predicted']=np.nan"
   ]
  },
  {
   "cell_type": "code",
   "execution_count": 69,
   "metadata": {},
   "outputs": [
    {
     "data": {
      "text/html": [
       "<div>\n",
       "<style scoped>\n",
       "    .dataframe tbody tr th:only-of-type {\n",
       "        vertical-align: middle;\n",
       "    }\n",
       "\n",
       "    .dataframe tbody tr th {\n",
       "        vertical-align: top;\n",
       "    }\n",
       "\n",
       "    .dataframe thead th {\n",
       "        text-align: right;\n",
       "    }\n",
       "</style>\n",
       "<table border=\"1\" class=\"dataframe\">\n",
       "  <thead>\n",
       "    <tr style=\"text-align: right;\">\n",
       "      <th></th>\n",
       "      <th>0</th>\n",
       "    </tr>\n",
       "  </thead>\n",
       "  <tbody>\n",
       "    <tr>\n",
       "      <th>0</th>\n",
       "      <td>[1 1 1 0 0 0 0 0 0 0 0]</td>\n",
       "    </tr>\n",
       "    <tr>\n",
       "      <th>1</th>\n",
       "      <td>[1 1 1 0 0 0 0 0 0 0 0]</td>\n",
       "    </tr>\n",
       "    <tr>\n",
       "      <th>2</th>\n",
       "      <td>[1 1 1 0 0 0 0 0 0 0 0]</td>\n",
       "    </tr>\n",
       "  </tbody>\n",
       "</table>\n",
       "</div>"
      ],
      "text/plain": [
       "                         0\n",
       "0  [1 1 1 0 0 0 0 0 0 0 0]\n",
       "1  [1 1 1 0 0 0 0 0 0 0 0]\n",
       "2  [1 1 1 0 0 0 0 0 0 0 0]"
      ]
     },
     "execution_count": 69,
     "metadata": {},
     "output_type": "execute_result"
    }
   ],
   "source": [
    "pred_df_1"
   ]
  },
  {
   "cell_type": "code",
   "execution_count": 70,
   "metadata": {},
   "outputs": [],
   "source": [
    "labels=[]"
   ]
  },
  {
   "cell_type": "code",
   "execution_count": 71,
   "metadata": {},
   "outputs": [
    {
     "data": {
      "text/plain": [
       "0        1.0\n",
       "1        1.0\n",
       "2        4.0\n",
       "3        1.0\n",
       "4        1.0\n",
       "        ... \n",
       "10691    1.0\n",
       "10692    1.0\n",
       "10693    2.0\n",
       "10694    3.0\n",
       "10695    1.0\n",
       "Name: 0, Length: 10696, dtype: float64"
      ]
     },
     "execution_count": 71,
     "metadata": {},
     "output_type": "execute_result"
    }
   ],
   "source": [
    "pred_df[0]"
   ]
  },
  {
   "cell_type": "code",
   "execution_count": 72,
   "metadata": {},
   "outputs": [],
   "source": [
    "g=0\n",
    "for i in pred_df_1[0]:\n",
    "    f=0\n",
    "    for j in pred_df['index']:\n",
    "        if i==j:\n",
    "            #prediction.loc[prediction.index[f], 'labels'] = pred_df[0].loc[g]\n",
    "            labels.append(pred_df[0].loc[g])\n",
    "            break\n",
    "        f=f+1\n",
    "    g=g+1"
   ]
  },
  {
   "cell_type": "code",
   "execution_count": 73,
   "metadata": {},
   "outputs": [
    {
     "data": {
      "text/plain": [
       "[1.0, 1.0, 4.0]"
      ]
     },
     "execution_count": 73,
     "metadata": {},
     "output_type": "execute_result"
    }
   ],
   "source": [
    "labels"
   ]
  },
  {
   "cell_type": "code",
   "execution_count": 74,
   "metadata": {},
   "outputs": [],
   "source": [
    "labels_1= pd.DataFrame(labels)"
   ]
  },
  {
   "cell_type": "code",
   "execution_count": 75,
   "metadata": {},
   "outputs": [
    {
     "data": {
      "text/html": [
       "<div>\n",
       "<style scoped>\n",
       "    .dataframe tbody tr th:only-of-type {\n",
       "        vertical-align: middle;\n",
       "    }\n",
       "\n",
       "    .dataframe tbody tr th {\n",
       "        vertical-align: top;\n",
       "    }\n",
       "\n",
       "    .dataframe thead th {\n",
       "        text-align: right;\n",
       "    }\n",
       "</style>\n",
       "<table border=\"1\" class=\"dataframe\">\n",
       "  <thead>\n",
       "    <tr style=\"text-align: right;\">\n",
       "      <th></th>\n",
       "      <th>0</th>\n",
       "    </tr>\n",
       "  </thead>\n",
       "  <tbody>\n",
       "    <tr>\n",
       "      <th>0</th>\n",
       "      <td>1.0</td>\n",
       "    </tr>\n",
       "    <tr>\n",
       "      <th>1</th>\n",
       "      <td>1.0</td>\n",
       "    </tr>\n",
       "    <tr>\n",
       "      <th>2</th>\n",
       "      <td>4.0</td>\n",
       "    </tr>\n",
       "  </tbody>\n",
       "</table>\n",
       "</div>"
      ],
      "text/plain": [
       "     0\n",
       "0  1.0\n",
       "1  1.0\n",
       "2  4.0"
      ]
     },
     "execution_count": 75,
     "metadata": {},
     "output_type": "execute_result"
    }
   ],
   "source": [
    "labels_1"
   ]
  },
  {
   "cell_type": "code",
   "execution_count": 76,
   "metadata": {},
   "outputs": [
    {
     "data": {
      "text/plain": [
       "array([1., 4.])"
      ]
     },
     "execution_count": 76,
     "metadata": {},
     "output_type": "execute_result"
    }
   ],
   "source": [
    "labels_1[0].unique()"
   ]
  },
  {
   "cell_type": "code",
   "execution_count": 77,
   "metadata": {},
   "outputs": [],
   "source": [
    "test['target']=np.nan"
   ]
  },
  {
   "cell_type": "code",
   "execution_count": 78,
   "metadata": {},
   "outputs": [
    {
     "data": {
      "text/html": [
       "<div>\n",
       "<style scoped>\n",
       "    .dataframe tbody tr th:only-of-type {\n",
       "        vertical-align: middle;\n",
       "    }\n",
       "\n",
       "    .dataframe tbody tr th {\n",
       "        vertical-align: top;\n",
       "    }\n",
       "\n",
       "    .dataframe thead th {\n",
       "        text-align: right;\n",
       "    }\n",
       "</style>\n",
       "<table border=\"1\" class=\"dataframe\">\n",
       "  <thead>\n",
       "    <tr style=\"text-align: right;\">\n",
       "      <th></th>\n",
       "      <th>posting_id</th>\n",
       "      <th>image</th>\n",
       "      <th>image_phash</th>\n",
       "      <th>title</th>\n",
       "      <th>cleaned_text</th>\n",
       "      <th>target</th>\n",
       "    </tr>\n",
       "  </thead>\n",
       "  <tbody>\n",
       "    <tr>\n",
       "      <th>0</th>\n",
       "      <td>test_2255846744</td>\n",
       "      <td>0006c8e5462ae52167402bac1c2e916e.jpg</td>\n",
       "      <td>ecc292392dc7687a</td>\n",
       "      <td>Edufuntoys - CHARACTER PHONE ada lampu dan mus...</td>\n",
       "      <td>edufuntoys character phone ada lampu dan musik...</td>\n",
       "      <td>NaN</td>\n",
       "    </tr>\n",
       "    <tr>\n",
       "      <th>1</th>\n",
       "      <td>test_3588702337</td>\n",
       "      <td>0007585c4d0f932859339129f709bfdc.jpg</td>\n",
       "      <td>e9968f60d2699e2c</td>\n",
       "      <td>(Beli 1 Free Spatula) Masker Komedo | Blackhea...</td>\n",
       "      <td>beli free spatula masker komedo blackhead mask...</td>\n",
       "      <td>NaN</td>\n",
       "    </tr>\n",
       "    <tr>\n",
       "      <th>2</th>\n",
       "      <td>test_4015706929</td>\n",
       "      <td>0008377d3662e83ef44e1881af38b879.jpg</td>\n",
       "      <td>ba81c17e3581cabe</td>\n",
       "      <td>READY Lemonilo Mie instant sehat kuah dan goreng</td>\n",
       "      <td>ready lemonilo mie instant sehat kuah dan goreng</td>\n",
       "      <td>NaN</td>\n",
       "    </tr>\n",
       "  </tbody>\n",
       "</table>\n",
       "</div>"
      ],
      "text/plain": [
       "        posting_id                                 image       image_phash  \\\n",
       "0  test_2255846744  0006c8e5462ae52167402bac1c2e916e.jpg  ecc292392dc7687a   \n",
       "1  test_3588702337  0007585c4d0f932859339129f709bfdc.jpg  e9968f60d2699e2c   \n",
       "2  test_4015706929  0008377d3662e83ef44e1881af38b879.jpg  ba81c17e3581cabe   \n",
       "\n",
       "                                               title  \\\n",
       "0  Edufuntoys - CHARACTER PHONE ada lampu dan mus...   \n",
       "1  (Beli 1 Free Spatula) Masker Komedo | Blackhea...   \n",
       "2   READY Lemonilo Mie instant sehat kuah dan goreng   \n",
       "\n",
       "                                        cleaned_text  target  \n",
       "0  edufuntoys character phone ada lampu dan musik...     NaN  \n",
       "1  beli free spatula masker komedo blackhead mask...     NaN  \n",
       "2   ready lemonilo mie instant sehat kuah dan goreng     NaN  "
      ]
     },
     "execution_count": 78,
     "metadata": {},
     "output_type": "execute_result"
    }
   ],
   "source": [
    "test"
   ]
  },
  {
   "cell_type": "code",
   "execution_count": 79,
   "metadata": {},
   "outputs": [],
   "source": [
    "value_count_1 = test.image_phash.value_counts().rename_axis('unique_values').reset_index(name='counts')"
   ]
  },
  {
   "cell_type": "code",
   "execution_count": 80,
   "metadata": {},
   "outputs": [
    {
     "data": {
      "text/html": [
       "<div>\n",
       "<style scoped>\n",
       "    .dataframe tbody tr th:only-of-type {\n",
       "        vertical-align: middle;\n",
       "    }\n",
       "\n",
       "    .dataframe tbody tr th {\n",
       "        vertical-align: top;\n",
       "    }\n",
       "\n",
       "    .dataframe thead th {\n",
       "        text-align: right;\n",
       "    }\n",
       "</style>\n",
       "<table border=\"1\" class=\"dataframe\">\n",
       "  <thead>\n",
       "    <tr style=\"text-align: right;\">\n",
       "      <th></th>\n",
       "      <th>unique_values</th>\n",
       "      <th>counts</th>\n",
       "    </tr>\n",
       "  </thead>\n",
       "  <tbody>\n",
       "    <tr>\n",
       "      <th>0</th>\n",
       "      <td>ba81c17e3581cabe</td>\n",
       "      <td>1</td>\n",
       "    </tr>\n",
       "    <tr>\n",
       "      <th>1</th>\n",
       "      <td>ecc292392dc7687a</td>\n",
       "      <td>1</td>\n",
       "    </tr>\n",
       "    <tr>\n",
       "      <th>2</th>\n",
       "      <td>e9968f60d2699e2c</td>\n",
       "      <td>1</td>\n",
       "    </tr>\n",
       "  </tbody>\n",
       "</table>\n",
       "</div>"
      ],
      "text/plain": [
       "      unique_values  counts\n",
       "0  ba81c17e3581cabe       1\n",
       "1  ecc292392dc7687a       1\n",
       "2  e9968f60d2699e2c       1"
      ]
     },
     "execution_count": 80,
     "metadata": {},
     "output_type": "execute_result"
    }
   ],
   "source": [
    "value_count_1"
   ]
  },
  {
   "cell_type": "code",
   "execution_count": 81,
   "metadata": {},
   "outputs": [],
   "source": [
    "a=0\n",
    "for i in value_count_1['unique_values']:\n",
    "    b=0\n",
    "    for j in test['image_phash']:\n",
    "        if i==j:\n",
    "            \n",
    "            test.loc[test.index[b], 'target'] = value_count_1['counts'].loc[a]\n",
    "        b=b+1\n",
    "    a=a+1"
   ]
  },
  {
   "cell_type": "code",
   "execution_count": 82,
   "metadata": {},
   "outputs": [
    {
     "data": {
      "text/html": [
       "<div>\n",
       "<style scoped>\n",
       "    .dataframe tbody tr th:only-of-type {\n",
       "        vertical-align: middle;\n",
       "    }\n",
       "\n",
       "    .dataframe tbody tr th {\n",
       "        vertical-align: top;\n",
       "    }\n",
       "\n",
       "    .dataframe thead th {\n",
       "        text-align: right;\n",
       "    }\n",
       "</style>\n",
       "<table border=\"1\" class=\"dataframe\">\n",
       "  <thead>\n",
       "    <tr style=\"text-align: right;\">\n",
       "      <th></th>\n",
       "      <th>posting_id</th>\n",
       "      <th>image</th>\n",
       "      <th>image_phash</th>\n",
       "      <th>title</th>\n",
       "      <th>cleaned_text</th>\n",
       "      <th>target</th>\n",
       "    </tr>\n",
       "  </thead>\n",
       "  <tbody>\n",
       "    <tr>\n",
       "      <th>0</th>\n",
       "      <td>test_2255846744</td>\n",
       "      <td>0006c8e5462ae52167402bac1c2e916e.jpg</td>\n",
       "      <td>ecc292392dc7687a</td>\n",
       "      <td>Edufuntoys - CHARACTER PHONE ada lampu dan mus...</td>\n",
       "      <td>edufuntoys character phone ada lampu dan musik...</td>\n",
       "      <td>1.0</td>\n",
       "    </tr>\n",
       "    <tr>\n",
       "      <th>1</th>\n",
       "      <td>test_3588702337</td>\n",
       "      <td>0007585c4d0f932859339129f709bfdc.jpg</td>\n",
       "      <td>e9968f60d2699e2c</td>\n",
       "      <td>(Beli 1 Free Spatula) Masker Komedo | Blackhea...</td>\n",
       "      <td>beli free spatula masker komedo blackhead mask...</td>\n",
       "      <td>1.0</td>\n",
       "    </tr>\n",
       "    <tr>\n",
       "      <th>2</th>\n",
       "      <td>test_4015706929</td>\n",
       "      <td>0008377d3662e83ef44e1881af38b879.jpg</td>\n",
       "      <td>ba81c17e3581cabe</td>\n",
       "      <td>READY Lemonilo Mie instant sehat kuah dan goreng</td>\n",
       "      <td>ready lemonilo mie instant sehat kuah dan goreng</td>\n",
       "      <td>1.0</td>\n",
       "    </tr>\n",
       "  </tbody>\n",
       "</table>\n",
       "</div>"
      ],
      "text/plain": [
       "        posting_id                                 image       image_phash  \\\n",
       "0  test_2255846744  0006c8e5462ae52167402bac1c2e916e.jpg  ecc292392dc7687a   \n",
       "1  test_3588702337  0007585c4d0f932859339129f709bfdc.jpg  e9968f60d2699e2c   \n",
       "2  test_4015706929  0008377d3662e83ef44e1881af38b879.jpg  ba81c17e3581cabe   \n",
       "\n",
       "                                               title  \\\n",
       "0  Edufuntoys - CHARACTER PHONE ada lampu dan mus...   \n",
       "1  (Beli 1 Free Spatula) Masker Komedo | Blackhea...   \n",
       "2   READY Lemonilo Mie instant sehat kuah dan goreng   \n",
       "\n",
       "                                        cleaned_text  target  \n",
       "0  edufuntoys character phone ada lampu dan musik...     1.0  \n",
       "1  beli free spatula masker komedo blackhead mask...     1.0  \n",
       "2   ready lemonilo mie instant sehat kuah dan goreng     1.0  "
      ]
     },
     "execution_count": 82,
     "metadata": {},
     "output_type": "execute_result"
    }
   ],
   "source": [
    "test"
   ]
  },
  {
   "cell_type": "code",
   "execution_count": 83,
   "metadata": {},
   "outputs": [],
   "source": [
    "list1=[]\n",
    "matchings=[]\n",
    "a=0\n",
    "for i in labels_1[0]:\n",
    "    b=0\n",
    "    for j in test['target']:\n",
    "        if i==j:\n",
    "            matchings.append(test['posting_id'].loc[a])                      \n",
    "            break\n",
    "        list1.append(matchings)\n",
    "        b=b+1\n",
    "    a=a+1"
   ]
  },
  {
   "cell_type": "code",
   "execution_count": 84,
   "metadata": {},
   "outputs": [
    {
     "data": {
      "text/plain": [
       "[['test_2255846744', 'test_3588702337'],\n",
       " ['test_2255846744', 'test_3588702337'],\n",
       " ['test_2255846744', 'test_3588702337']]"
      ]
     },
     "execution_count": 84,
     "metadata": {},
     "output_type": "execute_result"
    }
   ],
   "source": [
    "list1"
   ]
  },
  {
   "cell_type": "code",
   "execution_count": 85,
   "metadata": {},
   "outputs": [],
   "source": [
    "list2=[]\n",
    "for i in list1:\n",
    "    list2.append(i[0])\n",
    "    "
   ]
  },
  {
   "cell_type": "code",
   "execution_count": 86,
   "metadata": {},
   "outputs": [],
   "source": [
    "submission=pd.DataFrame(test['posting_id'].values,list2)"
   ]
  },
  {
   "cell_type": "code",
   "execution_count": 87,
   "metadata": {},
   "outputs": [
    {
     "data": {
      "text/html": [
       "<div>\n",
       "<style scoped>\n",
       "    .dataframe tbody tr th:only-of-type {\n",
       "        vertical-align: middle;\n",
       "    }\n",
       "\n",
       "    .dataframe tbody tr th {\n",
       "        vertical-align: top;\n",
       "    }\n",
       "\n",
       "    .dataframe thead th {\n",
       "        text-align: right;\n",
       "    }\n",
       "</style>\n",
       "<table border=\"1\" class=\"dataframe\">\n",
       "  <thead>\n",
       "    <tr style=\"text-align: right;\">\n",
       "      <th></th>\n",
       "      <th>0</th>\n",
       "    </tr>\n",
       "  </thead>\n",
       "  <tbody>\n",
       "    <tr>\n",
       "      <th>test_2255846744</th>\n",
       "      <td>test_2255846744</td>\n",
       "    </tr>\n",
       "    <tr>\n",
       "      <th>test_2255846744</th>\n",
       "      <td>test_3588702337</td>\n",
       "    </tr>\n",
       "    <tr>\n",
       "      <th>test_2255846744</th>\n",
       "      <td>test_4015706929</td>\n",
       "    </tr>\n",
       "  </tbody>\n",
       "</table>\n",
       "</div>"
      ],
      "text/plain": [
       "                               0\n",
       "test_2255846744  test_2255846744\n",
       "test_2255846744  test_3588702337\n",
       "test_2255846744  test_4015706929"
      ]
     },
     "execution_count": 87,
     "metadata": {},
     "output_type": "execute_result"
    }
   ],
   "source": [
    "submission"
   ]
  },
  {
   "cell_type": "code",
   "execution_count": 88,
   "metadata": {},
   "outputs": [],
   "source": [
    "submission.columns=['matches']"
   ]
  },
  {
   "cell_type": "code",
   "execution_count": 89,
   "metadata": {},
   "outputs": [],
   "source": [
    "submission.reset_index(inplace=True)"
   ]
  },
  {
   "cell_type": "code",
   "execution_count": 90,
   "metadata": {},
   "outputs": [],
   "source": [
    "submission.columns=['posting_id','matches']"
   ]
  },
  {
   "cell_type": "code",
   "execution_count": 91,
   "metadata": {},
   "outputs": [
    {
     "data": {
      "text/html": [
       "<div>\n",
       "<style scoped>\n",
       "    .dataframe tbody tr th:only-of-type {\n",
       "        vertical-align: middle;\n",
       "    }\n",
       "\n",
       "    .dataframe tbody tr th {\n",
       "        vertical-align: top;\n",
       "    }\n",
       "\n",
       "    .dataframe thead th {\n",
       "        text-align: right;\n",
       "    }\n",
       "</style>\n",
       "<table border=\"1\" class=\"dataframe\">\n",
       "  <thead>\n",
       "    <tr style=\"text-align: right;\">\n",
       "      <th></th>\n",
       "      <th>posting_id</th>\n",
       "      <th>matches</th>\n",
       "    </tr>\n",
       "  </thead>\n",
       "  <tbody>\n",
       "    <tr>\n",
       "      <th>0</th>\n",
       "      <td>test_2255846744</td>\n",
       "      <td>test_2255846744</td>\n",
       "    </tr>\n",
       "    <tr>\n",
       "      <th>1</th>\n",
       "      <td>test_2255846744</td>\n",
       "      <td>test_3588702337</td>\n",
       "    </tr>\n",
       "    <tr>\n",
       "      <th>2</th>\n",
       "      <td>test_2255846744</td>\n",
       "      <td>test_4015706929</td>\n",
       "    </tr>\n",
       "  </tbody>\n",
       "</table>\n",
       "</div>"
      ],
      "text/plain": [
       "        posting_id          matches\n",
       "0  test_2255846744  test_2255846744\n",
       "1  test_2255846744  test_3588702337\n",
       "2  test_2255846744  test_4015706929"
      ]
     },
     "execution_count": 91,
     "metadata": {},
     "output_type": "execute_result"
    }
   ],
   "source": [
    "submission"
   ]
  },
  {
   "cell_type": "code",
   "execution_count": 92,
   "metadata": {},
   "outputs": [],
   "source": [
    "submission.to_csv(\"submission.csv\",index=False)"
   ]
  }
 ],
 "metadata": {
  "kernelspec": {
   "display_name": "Python 3",
   "language": "python",
   "name": "python3"
  },
  "language_info": {
   "codemirror_mode": {
    "name": "ipython",
    "version": 3
   },
   "file_extension": ".py",
   "mimetype": "text/x-python",
   "name": "python",
   "nbconvert_exporter": "python",
   "pygments_lexer": "ipython3",
   "version": "3.8.5"
  }
 },
 "nbformat": 4,
 "nbformat_minor": 2
}
